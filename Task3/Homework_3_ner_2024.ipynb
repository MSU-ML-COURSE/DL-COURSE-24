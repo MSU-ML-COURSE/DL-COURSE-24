{
 "cells": [
  {
   "cell_type": "markdown",
   "metadata": {
    "id": "ss9WR_zbQELO"
   },
   "source": [
    "# Практическое задание 3\n",
    "\n",
    "# Named Entity Recognition"
   ]
  },
  {
   "cell_type": "markdown",
   "metadata": {},
   "source": [
    "Дата выдачи: <span style=\"color:red\">__16 ноября 21:00__</span>.\n",
    "\n",
    "Дедлайн: <span style=\"color:red\">__01 декабря 22:00__</span>."
   ]
  },
  {
   "cell_type": "markdown",
   "metadata": {
    "id": "sB3vM2GfQELQ"
   },
   "source": [
    "## Введение\n",
    "\n",
    "### Постановка задачи\n",
    "\n",
    "В этом задании вы будете решать задачу извлечения именованных сущностей (Named Entity Recognition) – одну из самых распространенных в NLP, наряду с задачей текстовой классификации.\n",
    "\n",
    "Данная задача заключается в том, что нужно классифицировать каждое слово / токен на предмет того, является ли оно частью именованной сущности (сущность может состоять из нескольких слов / токенов) или нет.\n",
    "\n",
    "Например, мы хотим извлечь имена и названия организаций. Тогда для текста\n",
    "\n",
    "    Yan    Goodfellow  works  for  Google  Brain\n",
    "\n",
    "модель должна извлечь следующую последовательность:\n",
    "\n",
    "    B-PER  I-PER       O      O    B-ORG   I-ORG\n",
    "\n",
    "где префиксы *B-* и *I-* означают начало и конец именованной сущности, *O* означает слово без тега. Такая префиксная система (*BIO*-разметка) введена, чтобы различать последовательные именованные сущности одного типа.\n",
    "Существуют и другие типы разметок, например *BILUO*, но в рамках данного практического задания сфокусируемся имеено на *BIO*.\n",
    "\n",
    "Решать NER задачу мы будем на датасете CoNLL-2003 с использованием рекуррентных сетей и моделей на базе архитектуры Transformer. Датасет CoNLL-2003 представлен в виде разметки **BIO**, где лейбл:\n",
    "- *B-{label}* - начало сущности *{label}*;\n",
    "- *I-{label}* - продолжение сущности *{label}*;\n",
    "- *O* - отсутсвие сущности.\n",
    "\n",
    "Здесь в качестве сущности *{label}* может выступать имя, географическое название или какой-то другой тип собственных имён. Подробнее с разметками можно ознакомится во вспомогательном ноутбуке.\n",
    "\n",
    "### Библиотеки\n",
    "\n",
    "Основные библиотеки:\n",
    " - [PyTorch](https://pytorch.org/)\n",
    " - [Transformers](https://github.com/huggingface/transformers)\n",
    "\n",
    "### Данные\n",
    "\n",
    "Данные лежат в архиве, который состоит из:\n",
    "\n",
    "- *train.tsv* - обучающая выборка. В каждой строке записаны: <слово / токен>, <тэг слова / токена>\n",
    "\n",
    "- *valid.tsv* - валидационная выборка, которую можно использовать для подбора гиперпарамеров и замеров качества. Имеет идентичную с train.tsv структуру.\n",
    "\n",
    "- *test.tsv* - тестовая выборка, по которой оценивается итоговое качество. Имеет идентичную с train.tsv структуру.\n",
    "\n",
    "Скачать данные можно здесь: [ссылка](https://github.com/valerapon/msu_task_3_ner)"
   ]
  },
  {
   "cell_type": "code",
   "execution_count": null,
   "metadata": {
    "id": "EpTwu2i2qRrg"
   },
   "outputs": [],
   "source": [
    "!pip install numpy==1.23.5 scikit-learn==1.2.2 tensorboard==2.14.1 torch==2.1.0 tqdm==4.66.1 transformers==4.34.1"
   ]
  },
  {
   "cell_type": "code",
   "execution_count": null,
   "metadata": {
    "id": "Thidpb9qQELS"
   },
   "outputs": [],
   "source": [
    "import random\n",
    "from collections import Counter, defaultdict, namedtuple\n",
    "from typing import Tuple, List, Dict, Any\n",
    "\n",
    "import torch\n",
    "import numpy as np\n",
    "\n",
    "from tqdm import tqdm, trange"
   ]
  },
  {
   "cell_type": "markdown",
   "metadata": {
    "id": "AiDlmbY2QELT"
   },
   "source": [
    "Зафиксируем seed (значение 42) для воспроизводимости результатов (желательно делать **всегда**!):"
   ]
  },
  {
   "cell_type": "code",
   "execution_count": null,
   "metadata": {
    "id": "yt3ISg3aQELU"
   },
   "outputs": [],
   "source": [
    "def set_global_seed(seed: int) -> None:\n",
    "    \"\"\"\n",
    "    Set global seed for reproducibility.\n",
    "    \"\"\"\n",
    "\n",
    "    random.seed(seed)\n",
    "    np.random.seed(seed)\n",
    "    torch.manual_seed(seed)\n",
    "    torch.cuda.manual_seed_all(seed)\n",
    "    torch.backends.cudnn.benchmark = False\n",
    "    torch.backends.cudnn.deterministic = True\n",
    "\n",
    "\n",
    "set_global_seed(42)"
   ]
  },
  {
   "cell_type": "markdown",
   "metadata": {
    "id": "AhIg0ZBzQELV"
   },
   "source": [
    "Проинициализируем device (CPU / GPU) на котором будем работать (желательно **GPU**):"
   ]
  },
  {
   "cell_type": "code",
   "execution_count": null,
   "metadata": {
    "id": "rboLOv95QELV"
   },
   "outputs": [],
   "source": [
    "device = \"cuda\" if torch.cuda.is_available() else \"cpu\"\n",
    "device"
   ]
  },
  {
   "cell_type": "markdown",
   "metadata": {
    "id": "4k3Nhd3IQELY"
   },
   "source": [
    "## Часть 1. Подготовка данных (4 балла)"
   ]
  },
  {
   "cell_type": "markdown",
   "metadata": {
    "id": "4qYjOMuPQELY"
   },
   "source": [
    "Первым делом нам нужно считать данные. Давайте напишем функцию, которая на вход принимает путь до одного из conll-2003 файла и возвращает два списка:\n",
    "- список списков слов / токенов;\n",
    "- список списков тегов, который соответствует собранному списку слов / токенов.\n",
    "\n",
    "Также функция на вход принимает булевую переменную *lowercase*, которая задает чувствительность к регистру. Далее будем всё приводить к нижнему регистру (`lower=True`).\n",
    "\n",
    "P.S. Стоит держать в голове, что в некоторых ситуациях верхний регистр помогает выявлять именованные сущности. Например, у вас нет мощностей, чтобы запускать сложные модели, а задачу решать нужно быстро. В этом случае эвристическое правило: \"Большая буква в слове = именнованная сущность\" может вам помочь. Или у вас есть огромные корпусы данных, которые позволяют сохранять исходное разнообразие слов.\n",
    "\n",
    "**Задание. Реализуйте функцию read_conll2003.** **<font color='red'>(1 балл)</font>**\n",
    "\n",
    "<details>\n",
    "<summary> Подсказка </summary>\n",
    "\n",
    "*Предложения разделены пустой строкой, в конце файла также пустая строка, но не забывайте про символ `\\n`.*\n",
    "\n",
    "</details>\n"
   ]
  },
  {
   "cell_type": "code",
   "execution_count": null,
   "metadata": {
    "id": "wQdCfX2OQELZ"
   },
   "outputs": [],
   "source": [
    "def read_conll2003(\n",
    "    path: str,\n",
    "    lower: bool = True,\n",
    ") -> Tuple[List[List[str]], List[List[str]]]:\n",
    "    \"\"\"\n",
    "    Prepare data in CoNNL like format.\n",
    "\n",
    "    Args:\n",
    "        path: The path to the file (str).\n",
    "        lower:  Reduce text to lowercase (bool).\n",
    "\n",
    "    Returns:\n",
    "        Function returns pair (token_seq, label_seq).\n",
    "        token_seq: The list of lists. Each internal list is\n",
    "            a sentence converted into tokens.\n",
    "        label_seq: The list of lists. All internal lists\n",
    "            contain tags corresponding to tokens from token_seq.\n",
    "\n",
    "    \"\"\"\n",
    "\n",
    "    token_seq: List[List[str]] = []\n",
    "    label_seq: List[List[str]] = []\n",
    "\n",
    "    # ### START CODE HERE ###\n",
    "    ...\n",
    "    # ### END CODE HERE ###\n",
    "\n",
    "    return token_seq, label_seq"
   ]
  },
  {
   "cell_type": "markdown",
   "metadata": {
    "id": "oYm8xEvFQELb"
   },
   "source": [
    "Считаем все три файла:\n",
    "- *train.tsv*\n",
    "- *valid.tsv*\n",
    "- *test.tsv*"
   ]
  },
  {
   "cell_type": "code",
   "execution_count": null,
   "metadata": {
    "id": "-inr1BPgQELb"
   },
   "outputs": [],
   "source": [
    "train_token_seq, train_label_seq = read_conll2003(\"data/train.txt\")\n",
    "valid_token_seq, valid_label_seq = read_conll2003(\"data/valid.txt\")\n",
    "test_token_seq, test_label_seq = read_conll2003(\"data/test.txt\")"
   ]
  },
  {
   "cell_type": "markdown",
   "metadata": {
    "id": "sOoNc1VUQELc"
   },
   "source": [
    "Посмотрим на то, что мы получили:"
   ]
  },
  {
   "cell_type": "code",
   "execution_count": null,
   "metadata": {
    "id": "HK8AcwWGQELd"
   },
   "outputs": [],
   "source": [
    "for token, label in zip(train_token_seq[0], train_label_seq[0]):\n",
    "    print(f\"{token}\\t{label}\")"
   ]
  },
  {
   "cell_type": "code",
   "execution_count": null,
   "metadata": {
    "id": "K8SqDeMJjF3Y"
   },
   "outputs": [],
   "source": [
    "for token, label in zip(valid_token_seq[0], valid_label_seq[0]):\n",
    "    print(f\"{token}\\t{label}\")"
   ]
  },
  {
   "cell_type": "code",
   "execution_count": null,
   "metadata": {
    "id": "ddFE7p5kjF_p"
   },
   "outputs": [],
   "source": [
    "for token, label in zip(test_token_seq[0], test_label_seq[0]):\n",
    "    print(f\"{token}\\t{label}\")"
   ]
  },
  {
   "cell_type": "code",
   "execution_count": null,
   "metadata": {
    "id": "BZ4Go3IXfDit"
   },
   "outputs": [],
   "source": [
    "assert len(train_token_seq) == len(train_label_seq), \"Длины тренировочных token_seq и label_seq не совпадают, ошибка в функции read_conll2003\"\n",
    "assert len(valid_token_seq) == len(valid_label_seq), \"Длины валидационных token_seq и label_seq не совпадают, ошибка в функции read_conll2003\"\n",
    "assert len(test_token_seq) == len(test_label_seq), \"Длины тестовых token_seq и label_seq не совпадают, ошибка в функции read_conll2003\"\n",
    "\n",
    "assert train_token_seq[0] == ['eu', 'rejects', 'german', 'call', 'to', 'boycott', 'british', 'lamb', '.'], \"Ошибка в тренировочном token_seq\"\n",
    "assert train_label_seq[0] == ['B-ORG', 'O', 'B-MISC', 'O', 'O', 'O', 'B-MISC', 'O', 'O'], \"Ошибка в тренировочном label_seq\"\n",
    "\n",
    "assert valid_token_seq[0] == ['cricket', '-', 'leicestershire', 'take', 'over', 'at', 'top', 'after', 'innings', 'victory', '.'], \"Ошибка в валидационном token_seq\"\n",
    "assert valid_label_seq[0] == ['O', 'O', 'B-ORG', 'O', 'O', 'O', 'O', 'O', 'O', 'O', 'O'], \"Ошибка в валидационном label_seq\"\n",
    "\n",
    "assert test_token_seq[0] == ['soccer', '-', 'japan', 'get', 'lucky', 'win', ',', 'china', 'in', 'surprise', 'defeat', '.'], \"Ошибка в тестовом token_seq\"\n",
    "assert test_label_seq[0] == ['O', 'O', 'B-LOC', 'O', 'O', 'O', 'O', 'B-PER', 'O', 'O', 'O', 'O'], \"Ошибка в тестовом label_seq\"\n",
    "\n",
    "print(\"Тесты пройдены!\")"
   ]
  },
  {
   "cell_type": "markdown",
   "metadata": {
    "id": "8SVL4USbQELe"
   },
   "source": [
    "### Подготовка словарей\n",
    "\n",
    "Чтобы обучать нейронную сеть, мы будем использовать два отображения:\n",
    "- {**token**}→{**token_idx**}: соответствие между словом / токеном и индексом строки в *embedding* матрице (начинается с 0);\n",
    "- {**label**}→{**label_idx**}: соответствие между тегом и уникальным индексом (начинается с 0).\n",
    "\n",
    "Теперь нам необходимо реализовать две функции:\n",
    "- *get_token2idx*\n",
    "- *get_label2idx*\n",
    "\n",
    "которые будут возвращать соответствующие словари (*token2idx* и *label2idx*).\n",
    "\n",
    "Словарь *token2idx* должен содержать специальные токены, которые нужно добавить самим:\n",
    "- `<PAD>` - спецтокен для паддинга (отступа), так как мы собираемся обучать модели батчами. Токен `<PAD>` нужен для выравнивания предложений по длине, когда их будем помещать в один батч. Чаще всего предложения дополняются с конца;\n",
    "- `<UNK>` - спецтокен для обработки слов / токенов, которых нет в словаре (актуально для инференса).\n",
    "\n",
    "Давайте для удобства дадим токену `<PAD>` индекс `0`, а токену `<UNK>` индекс `1`.\n",
    "\n",
    "В функцию *get_token2idx* также необходимо добавить параметр *min_count*, который будет включать только слова, превышающие определенную частоту."
   ]
  },
  {
   "cell_type": "markdown",
   "metadata": {
    "id": "sSBooA__tPBP"
   },
   "source": [
    "Для начала посмотрим, а сколько вообще уникальных слов в обучающих данных и число их вхождений:"
   ]
  },
  {
   "cell_type": "code",
   "execution_count": null,
   "metadata": {
    "id": "IthnXKsoo7A3"
   },
   "outputs": [],
   "source": [
    "token_counter = Counter([token for sentence in train_token_seq for token in sentence])\n",
    "print(*token_counter.most_common(10), sep='\\n')\n",
    "print(f\"Количество уникальных слов в тренировочном датасете: {len(token_counter)}\")\n",
    "print(f\"Количество слов встречающихся только один раз в тренировочном датасете: {len([token for token, cnt in token_counter.items() if cnt == 1])}\")"
   ]
  },
  {
   "cell_type": "markdown",
   "metadata": {
    "id": "sRtCHt1QruSU"
   },
   "source": [
    "Как мы видим, у нас есть много слов, которые в обучении встречаются только один раз. Очевидно, что выучиться по ним у нас не получиться, мы только переобучимся, поэтому давайте выкинем такие слова при формировании нашего словаря, задав параметр функции `min_count=2`.\n",
    "\n",
    "На этом этапе можно применять различные методы сокращения размера словаря, преобразовывая разные словоформы одного слова в один токен: стемминг или лемматизация. В текущей задаче мы это опустим, но в некоторых ситуациях это бывает полезно."
   ]
  },
  {
   "cell_type": "markdown",
   "metadata": {
    "id": "aOnc3UHpQELf"
   },
   "source": [
    "**Задание. Реализуйте функции get_token2idx и get_label2idx.** **<font color='red'>(1 балл)</font>**\n",
    "\n",
    "<details>\n",
    "<summary> Подсказка №1 </summary>\n",
    "\n",
    "*Не забудьте, что у \\<PAD\\> индекс 0, а у \\<UNK\\> индекс 1.*\n",
    "\n",
    "</details>\n",
    "\n",
    "<details>\n",
    "<summary> Подсказка №2 </summary>\n",
    "\n",
    "*Лучше всего словари token2idx и label2idx собирать с помощью token2cnt в get_token2idx и label_list в get_label2idx соответственно.*\n",
    "\n",
    "</details>\n",
    "\n",
    "<details>\n",
    "<summary> Подсказка №3 </summary>\n",
    "\n",
    "*В label_list в get_label2idx лежат отсортированные по возрастанию тэги, за исключением тэга 'O' – он идет первый (индекс 0). Этот порядок нужно сохранить при индексации в label2idx.*\n",
    "\n",
    "</details>"
   ]
  },
  {
   "cell_type": "code",
   "execution_count": null,
   "metadata": {
    "id": "aCaPftCyQELi"
   },
   "outputs": [],
   "source": [
    "def get_token2idx(\n",
    "    token_seq: List[List[str]],\n",
    "    min_count: int,\n",
    ") -> Dict[str, int]:\n",
    "    \"\"\"\n",
    "    Get mapping from tokens to indices to use with Embedding layer.\n",
    "\n",
    "    Args:\n",
    "        token_seq: The list of lists. Each internal list (sentence)\n",
    "            consists of tokens.\n",
    "        min_count:  The minimum number of repetitions of\n",
    "            a token in the corpus.\n",
    "\n",
    "    Returns:\n",
    "        Function returns mapping from token to id.\n",
    "        token2idx: The mapping from token\n",
    "            to id without \"rare\" words.\n",
    "\n",
    "    \"\"\"\n",
    "\n",
    "    token2idx: Dict[str, int] = {}\n",
    "    token2cnt = Counter([token for sentence in token_seq for token in sentence])\n",
    "\n",
    "    # ### START CODE HERE ###\n",
    "    ...\n",
    "    # ### END CODE HERE ###\n",
    "\n",
    "    return token2idx"
   ]
  },
  {
   "cell_type": "code",
   "execution_count": null,
   "metadata": {
    "id": "uFK130y-sLH4"
   },
   "outputs": [],
   "source": [
    "token2idx = get_token2idx(train_token_seq, min_count=2)"
   ]
  },
  {
   "cell_type": "code",
   "execution_count": null,
   "metadata": {
    "id": "t6i51GPtQELj"
   },
   "outputs": [],
   "source": [
    "def get_label2idx(label_seq: List[List[str]]) -> Dict[str, int]:\n",
    "    \"\"\"\n",
    "    Get mapping from labels to indices.\n",
    "\n",
    "    Args:\n",
    "        label_seq: The list of lists. Each internal list (sentence)\n",
    "            consists of labels.\n",
    "\n",
    "    Returns:\n",
    "        Function returns mapping from label to id.\n",
    "        label2idx: The mapping from label to id.\n",
    "\n",
    "    \"\"\"\n",
    "\n",
    "    label2idx: Dict[str, int] = {}\n",
    "    label_list = set(label for sentence in label_seq for label in sentence)\n",
    "    label_list = sorted(label_list, key=lambda x: 'A' if x == 'O' else x)\n",
    "\n",
    "    # ### START CODE HERE ###\n",
    "    ...\n",
    "    # ### END CODE HERE ###\n",
    "\n",
    "    return label2idx"
   ]
  },
  {
   "cell_type": "code",
   "execution_count": null,
   "metadata": {
    "id": "XW6fK0HtQELk"
   },
   "outputs": [],
   "source": [
    "label2idx = get_label2idx(train_label_seq)"
   ]
  },
  {
   "cell_type": "markdown",
   "metadata": {
    "id": "U13l-2IOQELk"
   },
   "source": [
    "Посмотрим на то, что мы получили:"
   ]
  },
  {
   "cell_type": "code",
   "execution_count": null,
   "metadata": {
    "id": "O7U7bMrHQELl"
   },
   "outputs": [],
   "source": [
    "for token, idx in list(token2idx.items())[:10]:\n",
    "    print(f\"{token}\\t{idx}\")"
   ]
  },
  {
   "cell_type": "code",
   "execution_count": null,
   "metadata": {
    "id": "Hp75V-o2QELl"
   },
   "outputs": [],
   "source": [
    "for label, idx in label2idx.items():\n",
    "    print(f\"{label}\\t{idx}\")"
   ]
  },
  {
   "cell_type": "code",
   "execution_count": null,
   "metadata": {
    "id": "VYb4BdAUhNzk"
   },
   "outputs": [],
   "source": [
    "assert len(get_token2idx(train_token_seq, min_count=1)) == 21012, \"Ошибка в длине словаря, скорее всего неверно реализован min_count\"\n",
    "assert len(token2idx) == 10952, \"Неправильная длина token2idx, скорее всего неверно реализован min_count\"\n",
    "assert len(label2idx) == 9, \"Неправильная длина label2idx\"\n",
    "\n",
    "assert list(token2idx.items())[:10] == [('<PAD>', 0), ('<UNK>', 1), ('eu', 2), ('german', 3), ('call', 4), ('to', 5), ('boycott', 6), ('british', 7), ('lamb', 8), ('.', 9)], \"Неправильно сформированный token2idx\"\n",
    "assert label2idx == {'O': 0, 'B-LOC': 1, 'B-MISC': 2, 'B-ORG': 3, 'B-PER': 4, 'I-LOC': 5, 'I-MISC': 6, 'I-ORG': 7, 'I-PER': 8}, \"Неправильно сформированный label2idx\"\n",
    "\n",
    "print(\"Тесты пройдены!\")"
   ]
  },
  {
   "cell_type": "markdown",
   "metadata": {
    "id": "ItPs1DmOQELm"
   },
   "source": [
    "### Подготовка датасета и загрузчика\n",
    "\n",
    "Обычно нейронные сети обучаются батчами. Это означает, что каждое обновление весов нейронной сети происходит на основе нескольких последовательностей. Технической деталью является необходимость дополнить все последовательности внутри батча до одной длины.\n",
    "\n",
    "Из предыдущего практического задания вы должны знать о `Dataset`'е (`torch.utils.data.Dataset`) – структура данных, которая хранит и может по индексу отдавать данные для обучения. Датасет должен наследоваться от стандартного PyTorch класса Dataset и переопределять методы `__len__` и `__getitem__`.\n",
    "\n",
    "Метод `__getitem__` должен возвращать индексированную последовательность и её теги.\n",
    "\n",
    "**Не забудьте** про `<UNK>` спецтокен для неизвестных слов!\n",
    "    \n",
    "Давайте напишем кастомный датасет под нашу задачу, который на вход (метод `__init__`) будет принимать:\n",
    "- *token_seq* – список списков слов / токенов;\n",
    "- *label_seq* – список списков тегов;\n",
    "- *token2idx* – отображение токена в индекс;\n",
    "- *label2idx* – отображение тега в индекс.\n",
    "\n",
    "и возвращать из метода `__getitem__` два Int64 тензора (`torch.LongTensor`) из индексов слов / токенов в сэмпле и индексов соответвующих тегов:\n",
    "\n",
    "**Задание. Реализуйте класс датасета NERDataset.** **<font color='red'>(1 балл)</font>**\n",
    "\n",
    "<details>\n",
    "<summary> Подсказка </summary>\n",
    "\n",
    "*Для понимания, зачем нужен вообще этот Dataset. У нас по факту есть \"сырые\" последовательности token_seq и label_seq, которые по индексу будут возвращать и нужный набор токенов, и соответствующий список тегов. Но для обучения это неудобно, потому что каждый раз нам необходимо конвертировать токены и теги в индексы. Инструмент Dataset нужен для того, чтобы, не задумываясь, извлекать элементы в нужном формате автоматически, как из массива.*\n",
    "\n",
    "</details>"
   ]
  },
  {
   "cell_type": "code",
   "execution_count": null,
   "metadata": {
    "id": "kdZvnUUpQELm"
   },
   "outputs": [],
   "source": [
    "class NERDataset(torch.utils.data.Dataset):\n",
    "    \"\"\"\n",
    "    PyTorch Dataset for NER.\n",
    "    \"\"\"\n",
    "\n",
    "    def __init__(\n",
    "        self,\n",
    "        token_seq: List[List[str]],\n",
    "        label_seq: List[List[str]],\n",
    "        token2idx: Dict[str, int],\n",
    "        label2idx: Dict[str, int],\n",
    "    ) -> None:\n",
    "        \"\"\"\n",
    "        Constructor of NERDataset class.\n",
    "\n",
    "        Args:\n",
    "            token_seq: The list of lists. Each internal list (sentence)\n",
    "                consists of tokens.\n",
    "            label_seq: The list of lists. Each internal list (sentence)\n",
    "                consists of labels.\n",
    "            token2idx: The mapping from token to id.\n",
    "            label2idx: The mapping from label to id.\n",
    "\n",
    "        Returns:\n",
    "            None\n",
    "\n",
    "        \"\"\"\n",
    "        self.token2idx = token2idx\n",
    "        self.label2idx = label2idx\n",
    "\n",
    "        self.token_seq = [self.process_tokens(tokens, token2idx) for tokens in token_seq]\n",
    "        self.label_seq = [self.process_labels(labels, label2idx) for labels in label_seq]\n",
    "\n",
    "    def __len__(self) -> int:\n",
    "        \"\"\"\n",
    "        Get dataset size.\n",
    "\n",
    "        Args:\n",
    "\n",
    "        Returns:\n",
    "            The method returns the length of the dataset.\n",
    "\n",
    "        \"\"\"\n",
    "        return len(self.token_seq)\n",
    "\n",
    "    def __getitem__(\n",
    "        self,\n",
    "        idx: int,\n",
    "    ) -> Tuple[torch.LongTensor, torch.LongTensor]:\n",
    "        \"\"\"\n",
    "        Get an element from a dataset by index.\n",
    "        Recomendation: use LongTensor.\n",
    "\n",
    "        Args:\n",
    "            idx: Index of element (int).\n",
    "\n",
    "        Returns:\n",
    "            The method returns required element. From\n",
    "            self.token_seq and self.label_seq.\n",
    "\n",
    "        \"\"\"\n",
    "        token_ids = None\n",
    "        label_ids = None\n",
    "\n",
    "        # ### START CODE HERE ###\n",
    "        ...\n",
    "        # ### END CODE HERE ###\n",
    "        return token_ids, label_ids\n",
    "\n",
    "    @staticmethod\n",
    "    def process_tokens(\n",
    "        tokens: List[str],\n",
    "        token2idx: Dict[str, int],\n",
    "        unk: str = \"<UNK>\",\n",
    "    ) -> List[int]:\n",
    "        \"\"\"\n",
    "        Transform list of tokens into list of tokens' indices.\n",
    "\n",
    "        Args:\n",
    "            tokens: The list (sentence) of tokens.\n",
    "            token2idx: The mapping from token to id.\n",
    "            unk: Name of <UNK> token (str).\n",
    "\n",
    "        Returns:\n",
    "            token_ids: The list of indices. Each index\n",
    "                corresponds to a token from the tokens.\n",
    "\n",
    "        \"\"\"\n",
    "        token_ids: List[int] = []\n",
    "\n",
    "        # ### START CODE HERE ###\n",
    "        ...\n",
    "        # ### END CODE HERE ###\n",
    "        return token_ids\n",
    "\n",
    "    @staticmethod\n",
    "    def process_labels(\n",
    "        labels: List[str],\n",
    "        label2idx: Dict[str, int],\n",
    "    ) -> List[int]:\n",
    "        \"\"\"\n",
    "        Transform list of labels into list of labels' indices.\n",
    "\n",
    "        Args:\n",
    "            labels: The list of labels.\n",
    "            label2idx: The mapping from label to id.\n",
    "\n",
    "        Returns:\n",
    "            label_ids: The list of indices. Each index\n",
    "                corresponds to a label from the labels.\n",
    "\n",
    "        \"\"\"\n",
    "        label_ids = List[int]\n",
    "\n",
    "        # ### START CODE HERE ###\n",
    "        ...\n",
    "        # ### END CODE HERE ###\n",
    "        return label_ids"
   ]
  },
  {
   "cell_type": "markdown",
   "metadata": {
    "id": "yCvaPJERQELn"
   },
   "source": [
    "Создадим три датасета:\n",
    "- *train_dataset*\n",
    "- *valid_dataset*\n",
    "- *test_dataset*"
   ]
  },
  {
   "cell_type": "code",
   "execution_count": null,
   "metadata": {
    "id": "bUMsSNkoQELn"
   },
   "outputs": [],
   "source": [
    "train_dataset = NERDataset(\n",
    "    token_seq=train_token_seq,\n",
    "    label_seq=train_label_seq,\n",
    "    token2idx=token2idx,\n",
    "    label2idx=label2idx,\n",
    ")\n",
    "valid_dataset = NERDataset(\n",
    "    token_seq=valid_token_seq,\n",
    "    label_seq=valid_label_seq,\n",
    "    token2idx=token2idx,\n",
    "    label2idx=label2idx,\n",
    ")\n",
    "test_dataset = NERDataset(\n",
    "    token_seq=test_token_seq,\n",
    "    label_seq=test_label_seq,\n",
    "    token2idx=token2idx,\n",
    "    label2idx=label2idx,\n",
    ")"
   ]
  },
  {
   "cell_type": "markdown",
   "metadata": {
    "id": "jQIq1pAWQELo"
   },
   "source": [
    "Посмотрим на то, что мы получили:"
   ]
  },
  {
   "cell_type": "code",
   "execution_count": null,
   "metadata": {
    "id": "wDlhYu-YW0s3"
   },
   "outputs": [],
   "source": [
    "train_dataset[0]"
   ]
  },
  {
   "cell_type": "code",
   "execution_count": null,
   "metadata": {
    "id": "CCURUIeKW3DG"
   },
   "outputs": [],
   "source": [
    "valid_dataset[0]"
   ]
  },
  {
   "cell_type": "code",
   "execution_count": null,
   "metadata": {
    "id": "zyAazaLzjQ-K"
   },
   "outputs": [],
   "source": [
    "test_dataset[0]"
   ]
  },
  {
   "cell_type": "code",
   "execution_count": null,
   "metadata": {
    "id": "Gox6uyF2idwZ"
   },
   "outputs": [],
   "source": [
    "assert len(train_dataset) == 14986, \"Неправильная длина train_dataset\"\n",
    "assert len(valid_dataset) == 3465, \"Неправильная длина valid_dataset\"\n",
    "assert len(test_dataset) == 3683, \"Неправильная длина test_dataset\"\n",
    "\n",
    "assert torch.equal(train_dataset[0][0], torch.tensor([2,1,3,4,5,6,7,8,9])), \"Неправильно сформированный train_dataset\"\n",
    "assert torch.equal(train_dataset[0][1], torch.tensor([3,0,2,0,0,0,2,0,0])), \"Неправильно сформированный train_dataset\"\n",
    "\n",
    "assert torch.equal(valid_dataset[0][0], torch.tensor([1737,571,1777,197,687,145,349,111,1819,1558,9])), \"Неправильно сформированный valid_dataset\"\n",
    "assert torch.equal(valid_dataset[0][1], torch.tensor([0,0,3,0,0,0,0,0,0,0,0])), \"Неправильно сформированный valid_dataset\"\n",
    "\n",
    "assert torch.equal(test_dataset[0][0], torch.tensor([1516,571,1434,1729,4893,2014,67,310,215,3157,3139,9])), \"Неправильно сформированный test_dataset\"\n",
    "assert torch.equal(test_dataset[0][1], torch.tensor([0,0,1,0,0,0,0,4,0,0,0,0])), \"Неправильно сформированный test_dataset\"\n",
    "\n",
    "print(\"Тесты пройдены!\")"
   ]
  },
  {
   "cell_type": "markdown",
   "metadata": {
    "id": "mWjJuAk7QELp"
   },
   "source": [
    "Для того, чтобы дополнять последовательности паддингом, будем использовать параметр `collate_fn` класса `DataLoader`.\n",
    "\n",
    "Принимая последовательность пар тензоров для предложений и тегов, необходимо дополнить все последовательности до последовательности максимальной длины в батче.\n",
    "\n",
    "Используйте для дополнения спецтокен `<PAD>` для последовательностей слов / токенов и -1 для последовательностей тегов.\n",
    "\n",
    "**hint**: удобно использовать метод **torch.nn.utils.rnn**. Обратите особое внимание на параметр *batch_first*"
   ]
  },
  {
   "cell_type": "markdown",
   "metadata": {
    "id": "VZiJVM5qQELp"
   },
   "source": [
    "`Collator` можно реализовать двумя способами:\n",
    "- класс с методом `__call__`\n",
    "- функцию\n",
    "\n",
    "Мы пойдем первым путем.\n",
    "\n",
    "Инициализировать экземпляр класса `Collator` (метод `__init__`) с помощью двух параметров:\n",
    "- id `<PAD>` спецтокена для последовательностей слов / токенов\n",
    "- id `<PAD>` спецтокена для последовательностей тегов (значение -1)\n",
    "\n",
    "Метод `__call__` на вход принимает батч, а именно список кортежей того, что нам возвращается из датасета. В нашем случае это список кортежей двух int64 тензоров - `List[Tuple[torch.LongTensor, torch.LongTensor]]`.\n",
    "\n",
    "На выходе мы хотим получить два тензора:\n",
    "- западденные индексы слов / токенов\n",
    "- западденные индексы тегов\n",
    "    \n",
    "P.S. `<PAD>` значение нужно для того, чтобы при подсчете лосса легко отличать западдированные токены от других. Можно использовать параметр *ignore_index* при инициализации лосса.\n",
    "\n",
    "**Задание. Реализуйте класс коллатора NERCollator.** **<font color='red'>(1 балл)</font>**\n",
    "\n",
    "<details>\n",
    "<summary> Пояснение </summary>\n",
    "\n",
    "*Чтобы ускорить взаимодействие с нейронными сетями, им на вход подаются не одна пара (объект, ответ), а несколько. Они объединяются в одну связку, которую называют батч. В нашем случае объекты -- это последовательности слов, которые имеют разную длину. Мы не можем в одном pytorch.tensor (или numpy.array) хранить последовательности разных длин, поэтому требуется их привести к одной (например, к длине максимальной последовательности), чем коллатор и занимается.*\n",
    "\n",
    "</details>"
   ]
  },
  {
   "cell_type": "code",
   "execution_count": null,
   "metadata": {
    "id": "LNHNwoLnQELp"
   },
   "outputs": [],
   "source": [
    "class NERCollator:\n",
    "    \"\"\"\n",
    "    Collator that handles variable-size sentences.\n",
    "    \"\"\"\n",
    "\n",
    "    def __init__(\n",
    "        self,\n",
    "        token_padding_value: int,\n",
    "        label_padding_value: int,\n",
    "    ):\n",
    "        self.token_padding_value = token_padding_value\n",
    "        self.label_padding_value = label_padding_value\n",
    "\n",
    "    def __call__(\n",
    "        self,\n",
    "        batch: List[Tuple[torch.LongTensor, torch.LongTensor]],\n",
    "    ) -> Tuple[torch.LongTensor, torch.LongTensor]:\n",
    "        \"\"\"\n",
    "        The method appends <PAD> token id to tensor with\n",
    "        token ids and -1 to tensor with labels.\n",
    "        The function torch.nn.utils.rnn.pad_sequence is useful for padding. Link:\n",
    "        https://pytorch.org/docs/stable/generated/torch.nn.utils.rnn.pad_sequence.html\n",
    "\n",
    "        Args:\n",
    "            batch: The list of tuples. Each tuple conists of the tensor with token ids and\n",
    "                the tensor with label ids.\n",
    "\n",
    "        Returns:\n",
    "            (tokens, labels): a pair of tensors with sizes: (batch_size, sentence_len).\n",
    "\n",
    "        \"\"\"\n",
    "        tokens, labels = zip(*batch)\n",
    "\n",
    "        # ### START CODE HERE ###\n",
    "        ...\n",
    "        # ### END CODE HERE ###\n",
    "\n",
    "        return tokens, labels"
   ]
  },
  {
   "cell_type": "code",
   "execution_count": null,
   "metadata": {
    "id": "nZUMwVQTQELq"
   },
   "outputs": [],
   "source": [
    "collator = NERCollator(\n",
    "    token_padding_value=token2idx[\"<PAD>\"],\n",
    "    label_padding_value=-1,\n",
    ")"
   ]
  },
  {
   "cell_type": "markdown",
   "metadata": {
    "id": "Jsgfij8WQELq"
   },
   "source": [
    "Теперь всё готово, чтобы задать `DataLoader`'ы:"
   ]
  },
  {
   "cell_type": "code",
   "execution_count": null,
   "metadata": {
    "id": "gFljkiBOQELr"
   },
   "outputs": [],
   "source": [
    "train_dataloader = torch.utils.data.DataLoader(\n",
    "    train_dataset,\n",
    "    batch_size=2,\n",
    "    shuffle=True,\n",
    "    collate_fn=collator,\n",
    ")\n",
    "valid_dataloader = torch.utils.data.DataLoader(\n",
    "    valid_dataset,\n",
    "    batch_size=1,  # для корректных замеров метрик оставить batch_size=1\n",
    "    shuffle=False, # для корректных замеров метрик оставить shuffle=False\n",
    "    collate_fn=collator,\n",
    ")\n",
    "test_dataloader = torch.utils.data.DataLoader(\n",
    "    test_dataset,\n",
    "    batch_size=1,  # для корректных замеров метрик оставить batch_size=1\n",
    "    shuffle=False, # для корректных замеров метрик оставить shuffle=False\n",
    "    collate_fn=collator,\n",
    ")"
   ]
  },
  {
   "cell_type": "markdown",
   "metadata": {
    "id": "i34wGJ4uQELr"
   },
   "source": [
    "Посмотрим на то, что мы получили:"
   ]
  },
  {
   "cell_type": "code",
   "execution_count": null,
   "metadata": {
    "id": "QLlr_DztQELr"
   },
   "outputs": [],
   "source": [
    "tokens, labels = next(iter(train_dataloader))\n",
    "\n",
    "tokens = tokens.to(device)\n",
    "labels = labels.to(device)"
   ]
  },
  {
   "cell_type": "code",
   "execution_count": null,
   "metadata": {
    "id": "zQvYRqEFtmpz"
   },
   "outputs": [],
   "source": [
    "tokens"
   ]
  },
  {
   "cell_type": "code",
   "execution_count": null,
   "metadata": {
    "id": "w--fhADKQELs"
   },
   "outputs": [],
   "source": [
    "labels"
   ]
  },
  {
   "cell_type": "code",
   "execution_count": null,
   "metadata": {
    "id": "yFeX0AYKlhGk"
   },
   "outputs": [],
   "source": [
    "train_tokens, train_labels = next(iter(\n",
    "    torch.utils.data.DataLoader(\n",
    "        train_dataset,\n",
    "        batch_size=2,\n",
    "        shuffle=False,\n",
    "        collate_fn=collator,\n",
    "    )\n",
    "))\n",
    "assert torch.equal(train_tokens, torch.tensor([[ 2,  1,  3,  4,  5,  6,  7,  8,  9], [10, 11,  0,  0,  0,  0,  0,  0,  0]])), \"Похоже на ошибку в коллаторе\"\n",
    "assert torch.equal(train_labels, torch.tensor([[ 3,  0,  2,  0,  0,  0,  2,  0,  0], [ 4,  8, -1, -1, -1, -1, -1, -1, -1]])), \"Похоже на ошибку в коллаторе\"\n",
    "\n",
    "valid_tokens, valid_labels = next(iter(\n",
    "    torch.utils.data.DataLoader(\n",
    "        valid_dataset,\n",
    "        batch_size=2,\n",
    "        shuffle=False,\n",
    "        collate_fn=collator,\n",
    "    )\n",
    "))\n",
    "assert torch.equal(valid_tokens, torch.tensor([[ 1737,   571,  1777,   197,   687,   145,   349,   111,  1819,  1558, 9], [  248, 10679,     0,     0,     0,     0,     0,     0,     0,     0,    0]])), \"Похоже на ошибку в коллаторе\"\n",
    "assert torch.equal(valid_labels, torch.tensor([[ 0,  0,  3,  0,  0,  0,  0,  0,  0,  0,  0], [ 1,  0, -1, -1, -1, -1, -1, -1, -1, -1, -1]])), \"Похоже на ошибку в коллаторе\"\n",
    "\n",
    "test_tokens, test_labels = next(iter(\n",
    "    torch.utils.data.DataLoader(\n",
    "        test_dataset,\n",
    "        batch_size=2,\n",
    "        shuffle=False,\n",
    "        collate_fn=collator,\n",
    "    )\n",
    "))\n",
    "assert torch.equal(test_tokens, torch.tensor([[1516,  571, 1434, 1729, 4893, 2014,   67,  310,  215, 3157, 3139,    9], [   1,    1,    0,    0,    0,    0,    0,    0,    0,    0,    0,    0]])), \"Похоже на ошибку в коллаторе\"\n",
    "assert torch.equal(test_labels, torch.tensor([[ 0,  0,  1,  0,  0,  0,  0,  4,  0,  0,  0,  0], [ 4,  8, -1, -1, -1, -1, -1, -1, -1, -1, -1, -1]])), \"Похоже на ошибку в коллаторе\"\n",
    "\n",
    "print(\"Тесты пройдены!\")"
   ]
  },
  {
   "cell_type": "markdown",
   "metadata": {
    "id": "1Ul5gLriQELs"
   },
   "source": [
    "## Часть 2. BiLSTM-теггер (6 баллов)\n",
    "\n",
    "Определите архитектуру сети, используя библиотеку PyTorch.\n",
    "\n",
    "Ваша архитектура в этом пункте должна соответствовать стандартному теггеру:\n",
    "* Embedding слой на входе\n",
    "* LSTM (однонаправленный или двунаправленный) слой для обработки последовательности\n",
    "* Dropout (заданный отдельно или встроенный в LSTM) для уменьшения переобучения\n",
    "* Linear слой на выходе\n",
    "\n",
    "Для обучения сети используйте поэлементную кросс-энтропийную функцию потерь.\n",
    "\n",
    "**Обратите внимание**, что `<PAD>` токены не должны учавствовать в подсчёте функции потерь. В качестве оптимизатора рекомендуется использовать Adam. Для получения значений предсказаний по выходам модели используйте функцию `argmax`.\n",
    "\n",
    "**Задание. Реализуйте класс модели BiLSTM.** **<font color='red'>(2 балл)</font>**\n",
    "\n",
    "<details>\n",
    "<summary> Подсказка №1 </summary>\n",
    "\n",
    "*Помните, что следуется явно указывать параметр `batch_first=True`.*\n",
    "\n",
    "</details>\n",
    "\n",
    "<details>\n",
    "<summary> Подсказка №2 </summary>\n",
    "\n",
    "*Число входных признаков `in_features` в линейном слое зависим от типа LSTM: однонаправленная или двунаправленая. В первом случае выходом i-го блока является скрытое состояние $h_i$, которое имеет размер `hidden_size`, и соответственно, `in_features=hidden_size`. А в случае двунаправленной сети вход представим в виде конкатенации скрытых состояний из разных уровней сети: $[h_i^1, h_i^2]$, здесь `in_features=2 * hidden_size`.*\n",
    "\n",
    "</details>\n",
    "\n",
    "<details>\n",
    "<summary> Рекомендация </summary>\n",
    "\n",
    "*Обратите внимание на метод `BiLSTM.forward`, реализовывать самостоятельно его не нужно. В нем используется функция `pack_padded_sequence` и обратная ей `pad_packed_sequence`. Это удобный инструмент для фильтрации входных последовательностей от токенов отступа.*\n",
    "\n",
    "</details>"
   ]
  },
  {
   "cell_type": "code",
   "execution_count": null,
   "metadata": {
    "id": "uMiLQljZQELt"
   },
   "outputs": [],
   "source": [
    "from torch.nn import Embedding, LSTM, Linear\n",
    "\n",
    "\n",
    "class BiLSTM(torch.nn.Module):\n",
    "    \"\"\"\n",
    "    Bidirectional LSTM architecture.\n",
    "    \"\"\"\n",
    "\n",
    "    def __init__(\n",
    "        self,\n",
    "        num_embeddings: int,\n",
    "        embedding_dim: int,\n",
    "        hidden_size: int,\n",
    "        num_layers: int,\n",
    "        dropout: float,\n",
    "        bidirectional: bool,\n",
    "        n_classes: int,\n",
    "        token_padding_value: int,\n",
    "        max_norm: float,\n",
    "    ) -> None:\n",
    "        \"\"\"\n",
    "        BiLSTM class constructor. The method contains a description\n",
    "        of the network layers and their parameters.\n",
    "\n",
    "        Args:\n",
    "            num_embeddings: The number of unique words (tokens) in the\n",
    "                dictionary, or the size of the dictionary (int)\n",
    "            embedding_dim:  Embedding word size (size)\n",
    "            hidden_size: The size of the hidden state (h_n) in the LSTM network (int)\n",
    "            num_layers: The total number of blocks in an LSTM network (int)\n",
    "            dropout: dropout parameter in LSTM layers (float)\n",
    "            bidirectional: a parameter that controls whether the LSTM is\n",
    "                unidirectional (one direction) or bidirectional (bool)\n",
    "            n_classes: the number of classes in a problem being solved (int)\n",
    "\n",
    "        Returns:\n",
    "            None\n",
    "\n",
    "        Tips:\n",
    "            - do not forget to specify batch_first=True\n",
    "            - control the size of the in_features in linear\n",
    "                layer depending on the value of 'bidirectional'\n",
    "        \"\"\"\n",
    "        super().__init__()\n",
    "\n",
    "        self.token_padding_value = token_padding_value\n",
    "        self.embedding = None # Embedding layer\n",
    "        self.rnn = None # LSTM layer\n",
    "        self.head = None # Linear layer\n",
    "\n",
    "        # ### START CODE HERE ###\n",
    "        ...\n",
    "        # ### END CODE HERE ###\n",
    "\n",
    "    def forward(self, tokens: torch.LongTensor) -> torch.Tensor:\n",
    "        \"\"\"\n",
    "        Applying neural network layers to input 'tokens'.\n",
    "\n",
    "        Args:\n",
    "            tokens: the input tensor with tokens ids (batch_size, sequence_len)\n",
    "\n",
    "        Returns:\n",
    "            logits: the scores issued by the model (batch_size, num_classes, sequence_len)\n",
    "        \"\"\"\n",
    "        embed = self.embedding(tokens)\n",
    "\n",
    "        # Используем специальную функцию pack_padded_sequence для того, чтобы получить\n",
    "        # структуру PackedSequence, которая не учитывать паддинг при проходе rnn.\n",
    "        # lengths -- длины исходных исходных последовательностей в батче,\n",
    "        # без учёта сдвига\n",
    "        lengths = (tokens != self.token_padding_value).sum(dim=1).detach().cpu()\n",
    "        packed_embed = torch.nn.utils.rnn.pack_padded_sequence(\n",
    "            input=embed,\n",
    "            lengths=lengths,\n",
    "            batch_first=True,\n",
    "            enforce_sorted=False,\n",
    "        )\n",
    "\n",
    "        # Используем специальную функцию pad_packed_sequence для того, чтобы получить\n",
    "        # тензор из PackedSequence. Операция является обратной к pack_padded_sequence\n",
    "        packed_rnn_output, _ = self.rnn(packed_embed)\n",
    "        rnn_output, _ = torch.nn.utils.rnn.pad_packed_sequence(\n",
    "            sequence=packed_rnn_output,\n",
    "            batch_first=True\n",
    "        )\n",
    "\n",
    "        logits = self.head(rnn_output)\n",
    "        logits = logits.transpose(1, 2)\n",
    "        return logits"
   ]
  },
  {
   "cell_type": "code",
   "execution_count": null,
   "metadata": {
    "id": "zps8HL2VQELu"
   },
   "outputs": [],
   "source": [
    "model = BiLSTM(\n",
    "    num_embeddings=len(token2idx),\n",
    "    embedding_dim=300,\n",
    "    hidden_size=256,\n",
    "    num_layers=1,\n",
    "    dropout=0.0,\n",
    "    bidirectional=True,\n",
    "    n_classes=len(label2idx),\n",
    "    token_padding_value=token2idx[\"<PAD>\"],\n",
    "    max_norm=None,\n",
    ").to(device)"
   ]
  },
  {
   "cell_type": "code",
   "execution_count": null,
   "metadata": {
    "id": "nmg2_C_oQELu"
   },
   "outputs": [],
   "source": [
    "model"
   ]
  },
  {
   "cell_type": "code",
   "execution_count": null,
   "metadata": {
    "id": "sDvWB5J2QELv"
   },
   "outputs": [],
   "source": [
    "optimizer = torch.optim.Adam(model.parameters(), lr=1e-4)\n",
    "criterion = torch.nn.CrossEntropyLoss(ignore_index=-1)"
   ]
  },
  {
   "cell_type": "code",
   "execution_count": null,
   "metadata": {
    "id": "Jn5Pu1UKQELv"
   },
   "outputs": [],
   "source": [
    "outputs = model(tokens)"
   ]
  },
  {
   "cell_type": "code",
   "execution_count": null,
   "metadata": {
    "id": "n02Bsh8eQELw"
   },
   "outputs": [],
   "source": [
    "assert outputs.shape == torch.Size([2, 9, 10])\n",
    "assert 2 < criterion(outputs, labels) < 3\n",
    "\n",
    "print(\"Тесты пройдены!\")"
   ]
  },
  {
   "cell_type": "markdown",
   "metadata": {
    "id": "kjhkK9QFQELu"
   },
   "source": [
    "### Эксперименты\n",
    "\n",
    "Проведите эксперименты на данных. Настраивайте параметры по валидационной выборке, не используя тестовую. Ваше цель — настроить сеть так, чтобы качество модели по F1-macro мере на валидационной и тестовой выборках было не меньше **0.76**.\n",
    "\n",
    "Сделайте выводы о качестве модели, переобучении, чувствительности архитектуры к выбору гиперпараметров. Оформите результаты экспериментов в виде мини-отчета (в этом же ipython notebook)."
   ]
  },
  {
   "cell_type": "code",
   "execution_count": null,
   "metadata": {
    "id": "f4hdrFZ9iRPi"
   },
   "outputs": [],
   "source": [
    "# Создадим SummaryWriter для эксперимента с BiLSTMModel\n",
    "# для отслеживания процесса обучения нейронной сети\n",
    "\n",
    "from torch.utils.tensorboard import SummaryWriter\n",
    "\n",
    "writer = SummaryWriter(log_dir=f\"logs/BiLSTMModel\")"
   ]
  },
  {
   "cell_type": "markdown",
   "metadata": {
    "id": "ruMTBSkQQELx"
   },
   "source": [
    "**Задание. Реализуйте функцию подсчета метрик compute_metrics.** **<font color='red'>(1 балл)</font>**\n",
    "\n",
    "<details>\n",
    "<summary> Подсказка №1 </summary>\n",
    "\n",
    "*Модель выдает логиты, или скоры, для каждого токена по каждому классу. Для подсчета метрик нужно, подобно максимизации вероятности, каждому токену входной последовательности определять класс с максимальный скором. Пример: токен `X` получил скоры (выход модели) для четырех классов `[0.5, 10.2, -13,9, 5,5]` соответственно, следовательно, нам необходимо определять для токена `X` класс № 1 (нумерация с нуля, `score=10.2`) как наиболее \"вероятный\".*\n",
    "\n",
    "</details>\n",
    "\n",
    "<details>\n",
    "<summary> Подсказка №2 </summary>\n",
    "\n",
    "*Входные тензоры необходимо перевести на CPU (если они на GPU), конвертировать в numpy-массив и для простоты вытянуть в вектор с помощью функции `flatten`.*\n",
    "\n",
    "</details>\n",
    "\n",
    "<details>\n",
    "<summary> Подсказка №3 </summary>\n",
    "\n",
    "*Не забудьте отфильтровать `<PAD>` токен.*\n",
    "\n",
    "</details>"
   ]
  },
  {
   "cell_type": "code",
   "execution_count": null,
   "metadata": {
    "id": "xkpo3JgWQELx"
   },
   "outputs": [],
   "source": [
    "from sklearn.metrics import accuracy_score, precision_score, recall_score, f1_score\n",
    "\n",
    "\n",
    "def compute_metrics(\n",
    "    outputs: torch.Tensor,\n",
    "    labels: torch.LongTensor,\n",
    ") -> Dict[str, float]:\n",
    "    \"\"\"\n",
    "    Compute NER metrics.\n",
    "\n",
    "    Args:\n",
    "        outputs: the model outputs (batch_size, num_classes, sequence_len)\n",
    "        labels: the correct classes (batch_size, sequence_len)\n",
    "\n",
    "    Returns:\n",
    "        metrics: mapping metric names to their corresponding values\n",
    "    \"\"\"\n",
    "\n",
    "    metrics = {}\n",
    "    y_true = None\n",
    "    y_pred = None\n",
    "\n",
    "    # ### START CODE HERE ###\n",
    "    ...\n",
    "    # ### END CODE HERE ###\n",
    "\n",
    "    metrics['accuracy'] = accuracy_score(\n",
    "        y_true=y_true,\n",
    "        y_pred=y_pred,\n",
    "    )\n",
    "\n",
    "    for metric_func in [precision_score, recall_score, f1_score]:\n",
    "        metric_name = metric_func.__name__.split('_')[0]\n",
    "        for average_type in [\"micro\", \"macro\", \"weighted\"]:\n",
    "            metrics[metric_name + '_' + average_type] = metric_func(\n",
    "                y_true=y_true,\n",
    "                y_pred=y_pred,\n",
    "                average=average_type,\n",
    "                zero_division=0,\n",
    "            )\n",
    "\n",
    "    return metrics"
   ]
  },
  {
   "cell_type": "code",
   "execution_count": null,
   "metadata": {
    "id": "1mYqYD-LNiNh"
   },
   "outputs": [],
   "source": [
    "compute_metrics(\n",
    "    outputs=outputs,\n",
    "    labels=labels,\n",
    ")"
   ]
  },
  {
   "cell_type": "markdown",
   "metadata": {
    "id": "Dzj89UygQEL0"
   },
   "source": [
    "**Задание. Реализуйте функции обучения и тестирования train_epoch и evaluate_epoch.** **<font color='red'>(2 балла)</font>**\n",
    "\n",
    "<details>\n",
    "<summary> Подсказка №1 </summary>\n",
    "\n",
    "*Почти всегда шаг обучения модели остается неизменным. Нужно выполнить последовательность действий: обнулить градиент, получить выходы модели, посчитать лосс, посчитать новые градиенты через `.backward()`, сделать шаг оптимизатора.*\n",
    "\n",
    "</details>\n",
    "\n",
    "<details>\n",
    "<summary> Подсказка №2 </summary>\n",
    "\n",
    "*При evaluate-этапе никакие градиенты не вычисляются, потому нет необходимости ни их в обнулении, ни в оптимизации по ним.*\n",
    "\n",
    "</details>\n",
    "\n",
    "<details>\n",
    "<summary> Пояснение </summary>\n",
    "\n",
    "*В PyTorch градиенты аккумулируются, их нужно сбрасывать через `optimizer.zero_grad()` перед каждой новой итерацией, чтобы исключить влияние градиента с предыдущих итераций на шаг текущего.*\n",
    "\n",
    "</details>"
   ]
  },
  {
   "cell_type": "code",
   "execution_count": null,
   "metadata": {
    "id": "sG3vQbc_QEL0"
   },
   "outputs": [],
   "source": [
    "def train_epoch(\n",
    "    model: torch.nn.Module,\n",
    "    dataloader: torch.utils.data.DataLoader,\n",
    "    optimizer: torch.optim.Optimizer,\n",
    "    criterion: torch.nn.Module,\n",
    "    writer: SummaryWriter,\n",
    "    device: torch.device,\n",
    "    epoch: int,\n",
    "    model_type: str,\n",
    ") -> None:\n",
    "    \"\"\"\n",
    "    One training cycle (loop).\n",
    "\n",
    "    Args:\n",
    "        model: BiLSTM model\n",
    "        dataloader: Dataloader with train data\n",
    "        optimizer: an algorithm for model optimization\n",
    "        criterion: the loss function\n",
    "        writer: a tool for logging the learning process\n",
    "        device: the device on which the model will work\n",
    "        epoch: the total number of epochs\n",
    "\n",
    "    Returns:\n",
    "        None\n",
    "    \"\"\"\n",
    "\n",
    "    model.train()\n",
    "\n",
    "    epoch_loss = []\n",
    "    batch_metrics_list = defaultdict(list)\n",
    "\n",
    "    for i, (tokens, labels) in tqdm(\n",
    "        enumerate(dataloader),\n",
    "        total=len(dataloader),\n",
    "        desc=\"loop over train batches\",\n",
    "    ):\n",
    "\n",
    "        tokens, labels = tokens.to(device), labels.to(device)\n",
    "\n",
    "        outputs = None\n",
    "        loss = None\n",
    "\n",
    "        if model_type == 'BiLSTM':\n",
    "            # ### START CODE HERE ###\n",
    "            ...\n",
    "            # ### END CODE HERE ###\n",
    "        elif model_type == 'Transformer':\n",
    "            # ### START CODE HERE ###\n",
    "            # Реализуйте этот фрагмент, когда будете проводить эксперименты\n",
    "            # с трансформером в третьей части задания, а пока можете пропусить.\n",
    "            ...\n",
    "            # ### END CODE HERE ###\n",
    "        else:\n",
    "            raise ValueError('Use \\'BiLSTM\\' or \\'Transformer\\' model_type.')\n",
    "\n",
    "        epoch_loss.append(loss.item())\n",
    "        writer.add_scalar(\n",
    "            tag=\"batch loss / train\",\n",
    "            scalar_value=loss.item(),\n",
    "            global_step=epoch * len(dataloader) + i,\n",
    "        )\n",
    "\n",
    "        with torch.no_grad():\n",
    "            model.eval()\n",
    "            if model_type == 'BiLSTM':\n",
    "                outputs_inference = model(tokens)\n",
    "            elif model_type == 'Transformer':\n",
    "                outputs_inference = model(**tokens)[\"logits\"].transpose(1, 2)\n",
    "            else:\n",
    "                raise ValueError('Use \\'BiLSTM\\' or \\'Transformer\\' model_type.')\n",
    "            model.train()\n",
    "\n",
    "        batch_metrics = compute_metrics(\n",
    "            outputs=outputs_inference,\n",
    "            labels=labels,\n",
    "        )\n",
    "\n",
    "        for metric_name, metric_value in batch_metrics.items():\n",
    "            batch_metrics_list[metric_name].append(metric_value)\n",
    "            writer.add_scalar(\n",
    "                tag=f\"batch {metric_name} / train\",\n",
    "                scalar_value=metric_value,\n",
    "                global_step=epoch * len(dataloader) + i,\n",
    "            )\n",
    "\n",
    "    avg_loss = np.mean(epoch_loss)\n",
    "    print(f\"Train loss: {avg_loss}\\n\")\n",
    "    writer.add_scalar(\n",
    "        tag=\"loss / train\",\n",
    "        scalar_value=avg_loss,\n",
    "        global_step=epoch,\n",
    "    )\n",
    "\n",
    "    for metric_name, metric_value_list in batch_metrics_list.items():\n",
    "        metric_value = np.mean(metric_value_list)\n",
    "        print(f\"Train {metric_name}: {metric_value}\\n\")\n",
    "        writer.add_scalar(\n",
    "            tag=f\"{metric_name} / train\",\n",
    "            scalar_value=metric_value,\n",
    "            global_step=epoch,\n",
    "        )"
   ]
  },
  {
   "cell_type": "code",
   "execution_count": null,
   "metadata": {
    "id": "p4ztFogtQEL0"
   },
   "outputs": [],
   "source": [
    "def evaluate_epoch(\n",
    "    model: torch.nn.Module,\n",
    "    dataloader: torch.utils.data.DataLoader,\n",
    "    criterion: torch.nn.Module,\n",
    "    writer: SummaryWriter,\n",
    "    device: torch.device,\n",
    "    epoch: int,\n",
    "    model_type: str,\n",
    ") -> None:\n",
    "    \"\"\"\n",
    "    One evaluation cycle (loop).\n",
    "\n",
    "    Args:\n",
    "        model: BiLSTM model\n",
    "        dataloader: Dataloader with data for evaluation\n",
    "        criterion: a loss function\n",
    "        writer: a tool for logging the learning process\n",
    "        device: the device on which the model will work\n",
    "        epoch: the total number of epochs\n",
    "\n",
    "    Returns:\n",
    "        None\n",
    "    \"\"\"\n",
    "\n",
    "    model.eval()\n",
    "\n",
    "    epoch_loss = []\n",
    "    batch_metrics_list = defaultdict(list)\n",
    "\n",
    "    with torch.no_grad():\n",
    "\n",
    "        for i, (tokens, labels) in tqdm(\n",
    "            enumerate(dataloader),\n",
    "            total=len(dataloader),\n",
    "            desc=\"loop over test batches\",\n",
    "        ):\n",
    "\n",
    "            tokens, labels = tokens.to(device), labels.to(device)\n",
    "\n",
    "            if model_type == 'BiLSTM':\n",
    "                # ### START CODE HERE ###\n",
    "                ...\n",
    "                # ### END CODE HERE ###\n",
    "            elif model_type == 'Transformer':\n",
    "                # ### START CODE HERE ###\n",
    "                # Реализуйте этот фрагмент, когда будете проводить эксперименты\n",
    "                # с трансформером в третьей части задания, а пока можете пропусить.\n",
    "                ...\n",
    "                # ### END CODE HERE ###\n",
    "            else:\n",
    "                raise ValueError('Use \\'BiLSTM\\' or \\'Transformer\\' model_type.')\n",
    "\n",
    "            epoch_loss.append(loss.item())\n",
    "            writer.add_scalar(\n",
    "                tag=\"batch loss / test\",\n",
    "                scalar_value=loss.item(),\n",
    "                global_step=epoch * len(dataloader) + i,\n",
    "            )\n",
    "\n",
    "            batch_metrics = compute_metrics(\n",
    "                outputs=outputs,\n",
    "                labels=labels,\n",
    "            )\n",
    "\n",
    "            for metric_name, metric_value in batch_metrics.items():\n",
    "                batch_metrics_list[metric_name].append(metric_value)\n",
    "                writer.add_scalar(\n",
    "                    tag=f\"batch {metric_name} / test\",\n",
    "                    scalar_value=metric_value,\n",
    "                    global_step=epoch * len(dataloader) + i,\n",
    "                )\n",
    "\n",
    "        avg_loss = np.mean(epoch_loss)\n",
    "        print(f\"Test loss:  {avg_loss}\\n\")\n",
    "        writer.add_scalar(\n",
    "            tag=\"loss / test\",\n",
    "            scalar_value=avg_loss,\n",
    "            global_step=epoch,\n",
    "        )\n",
    "\n",
    "        for metric_name, metric_value_list in batch_metrics_list.items():\n",
    "            metric_value = np.mean(metric_value_list)\n",
    "            print(f\"Test {metric_name}: {metric_value}\\n\")\n",
    "            writer.add_scalar(\n",
    "                tag=f\"{metric_name} / test\",\n",
    "                scalar_value=np.mean(metric_value),\n",
    "                global_step=epoch,\n",
    "            )"
   ]
  },
  {
   "cell_type": "code",
   "execution_count": null,
   "metadata": {
    "id": "z7Z5MTNzQEL1"
   },
   "outputs": [],
   "source": [
    "def train(\n",
    "    n_epochs: int,\n",
    "    model: torch.nn.Module,\n",
    "    train_dataloader: torch.utils.data.DataLoader,\n",
    "    valid_dataloader: torch.utils.data.DataLoader,\n",
    "    optimizer: torch.optim.Optimizer,\n",
    "    criterion: torch.nn.Module,\n",
    "    writer: SummaryWriter,\n",
    "    device: torch.device,\n",
    "    model_type: str,\n",
    ") -> None:\n",
    "    \"\"\"\n",
    "    Training loop.\n",
    "\n",
    "    Args:\n",
    "        n_epochs: the total number of epochs in training\n",
    "        model: BiLSTM model\n",
    "        train_dataloader:  Dataloader with train data\n",
    "        valid_dataloader: Dataloader with data for evaluation\n",
    "        optimizer: an algorithm for model optimization\n",
    "        criterion: a loss function\n",
    "        writer: a tool for logging the learning process\n",
    "        device: the device on which the model will work\n",
    "\n",
    "    Returns:\n",
    "        None\n",
    "    \"\"\"\n",
    "\n",
    "    for epoch in range(n_epochs):\n",
    "\n",
    "        print(f\"Epoch [{epoch+1} / {n_epochs}]\\n\")\n",
    "\n",
    "        train_epoch(\n",
    "            model=model,\n",
    "            dataloader=train_dataloader,\n",
    "            optimizer=optimizer,\n",
    "            criterion=criterion,\n",
    "            writer=writer,\n",
    "            device=device,\n",
    "            epoch=epoch,\n",
    "            model_type=model_type,\n",
    "        )\n",
    "        evaluate_epoch(\n",
    "            model=model,\n",
    "            dataloader=valid_dataloader,\n",
    "            criterion=criterion,\n",
    "            writer=writer,\n",
    "            device=device,\n",
    "            epoch=epoch,\n",
    "            model_type=model_type,\n",
    "        )"
   ]
  },
  {
   "cell_type": "markdown",
   "metadata": {
    "id": "xTxfU0BfQEL1"
   },
   "source": [
    "**Задание. Проведите эксперименты.** **<font color='red'>(2 балла)</font>**\n",
    "\n",
    "Настало время собрать все воедино. В этом блоке предлагается подбирать разные параметры, чтобы достичь качества F1-macro на тестовой и валидационной выборках не менее **0.76**.\n",
    "\n",
    "Будем задействовать ранее определенные `test_dataloader`, `valid_dataloader`, `criretion`. Настраивайте параметры на валидационной выборке так, чтобы получить требуемое качество. Основные из них:\n",
    "- `n_epoch` -- число эпох обучения, рекомендуется выбирать от 5 до 20;\n",
    "- `embedding_dim` -- размерность эмбеддингов, рекомендуем выбирать от 8 до 526;\n",
    "- `hidden_size` -- размерность скрытого состояния, от 8 до 1024;\n",
    "- `batch_size` -- размер обучающий батчей, от 8 до 128;\n",
    "- `dropout` -- параметр регуляризатора dropout, от 0 до 0.7;\n",
    "- `max_norm` -- максимальное органичение на норму эмбеддингов, 1.0 или `None`;\n",
    "- `lr` -- шаг оптимизатора, от 1e-3 до 1e-7.\n",
    "\n",
    "На практике используют еще более широкий набор регулировок, которые в положительную сторону влияют на качество. В текущем задании они не используются, но стоит знать, что:\n",
    "\n",
    "- в процессе обучения используют `gradient clipping`, чтобы контролировать норму градиентов. Величина должна быть согласована с `max_norm`, если такая используется;\n",
    "- изменение `lr` в процессе обучения, например, уменьшение с каждой эпохой. В трансформерах это отдельная проблема, которая при неправильном выборе `lr` приводит к серьезному переобучению. Типичной практикой является использование планировщиков `lr`: https://pytorch.org/docs/stable/optim.html#how-to-adjust-learning-rate;\n",
    "- иногда выбор другого оптимизатора позволяет поднять качество: https://pytorch.org/docs/stable/optim.html#algorithms;\n",
    "- встаивают дополнительные регуляризационные блоки и регуляризационные механизмы, например, L2-норму.\n",
    "\n",
    "<details>\n",
    "<summary> Подсказка №1 </summary>\n",
    "\n",
    "*Следите за лоссом и метриками. Если в течение первых пяти эпохах нет роста качества, то скорее всего что-то не так.*\n",
    "\n",
    "</details>\n",
    "\n",
    "<details>\n",
    "<summary> Подсказка №2 </summary>\n",
    "\n",
    "*Подсказка 2: попробуйте начать с параметров `embedding_dim=300` и `hidden_size=256`, `dropout=0.0`*\n",
    "\n",
    "</details>"
   ]
  },
  {
   "cell_type": "code",
   "execution_count": null,
   "metadata": {
    "id": "3gfxTDI3M3jQ"
   },
   "outputs": [],
   "source": [
    "# ### START CODE HERE ###\n",
    "train_dataloader = ...\n",
    "\n",
    "model = ...\n",
    "\n",
    "optimizer = ...\n",
    "# ### END CODE HERE ###"
   ]
  },
  {
   "cell_type": "code",
   "execution_count": null,
   "metadata": {
    "id": "yz6mjGZUQEL2"
   },
   "outputs": [],
   "source": [
    "# ### START CODE HERE ###\n",
    "train(...)\n",
    "# ### END CODE HERE ###"
   ]
  },
  {
   "cell_type": "markdown",
   "metadata": {
    "id": "wrW7cODysJ4j"
   },
   "source": [
    "Здесь и далее проинициализируем *tensorboard* для логгирования метрики в процессе обучения:"
   ]
  },
  {
   "cell_type": "code",
   "execution_count": null,
   "metadata": {
    "id": "bNIk2Rd5kjRa"
   },
   "outputs": [],
   "source": [
    "%load_ext tensorboard\n",
    "%tensorboard --logdir logs"
   ]
  },
  {
   "cell_type": "markdown",
   "metadata": {
    "id": "En2_vpe7jTwG"
   },
   "source": [
    "Проверим качество на тестовой выборке, ожидаем `f1_macro >= 0.76`"
   ]
  },
  {
   "cell_type": "code",
   "execution_count": null,
   "metadata": {
    "id": "3-tOLEdbQ6gD"
   },
   "outputs": [],
   "source": [
    "evaluate_epoch(\n",
    "    model=model,\n",
    "    dataloader=test_dataloader,\n",
    "    criterion=criterion,\n",
    "    writer=writer,\n",
    "    device=device,\n",
    "    epoch=1,\n",
    "    model_type='BiLSTM'\n",
    ")"
   ]
  },
  {
   "cell_type": "markdown",
   "metadata": {
    "id": "H8R6nopyQEL-"
   },
   "source": [
    "## Часть 3. Transformers-теггер (6 баллов)\n",
    "\n",
    "В данной части задания нужно сделать все то же самое, но с использованием модели на базе архитектуры Transformer, а именно предлагается дообучать предобученную модель **BERT**.\n",
    "\n",
    "Для данной модели подразумевается специальная подготовка данных, с чего мы и начнем:"
   ]
  },
  {
   "cell_type": "markdown",
   "metadata": {
    "id": "SrbX5gFDQEL-"
   },
   "source": [
    "Модель **BERT** использует специальный токенизатор WordPiece для разбиения предложений на токены. Готовая предобученная версия такого токенизатора существует в библиотеке **transformers**. Есть два класса: `BertTokenizer` и `BertTokenizerFast`. Использовать можно любой, но второй вариант работает существенно быстрее.\n",
    "\n",
    "Токенизаторы можно обучать с нуля на своем корпусе данных, а можно подгружать уже готовые. Готовые токенизаторы, как правило, соответствуют предобученной конфигурации модели, которая использует словарь из этого токенизатора.\n",
    "\n",
    "Мы будем использовать базовую конфигурацию предобученного **BERT** для модели и токенизатора.\n",
    "\n",
    "P.S. Часто приходится проводить эксперименты с моделями разной архитектуры, например **BERT** и **GPT**, поэтому удобно использовать класс `AutoTokenizer`, который по названию модели сам определит, какой класс нужен для инициализации токенизатора.\n",
    "\n",
    "Существует полезный сервис **HuggingFace**, который собрал в себе большое множество моделей и данных, ссылки на ресурс:\n",
    "- Hugging Face: https://huggingface.co\n",
    "- Hugging Face Models: https://huggingface.co/models\n",
    "- Hugging Face Datasets: https://huggingface.co/datasets"
   ]
  },
  {
   "cell_type": "code",
   "execution_count": null,
   "metadata": {
    "id": "4-UTiI4gQEL-"
   },
   "outputs": [],
   "source": [
    "from transformers import AutoTokenizer"
   ]
  },
  {
   "cell_type": "code",
   "execution_count": null,
   "metadata": {
    "id": "kSbBhvnDQEMA"
   },
   "outputs": [],
   "source": [
    "model_name = \"distilbert-base-cased\""
   ]
  },
  {
   "cell_type": "markdown",
   "metadata": {
    "id": "kxWNX5i6QEMA"
   },
   "source": [
    "Подгружение предобученных моделей и токенизаторов в **huggingface** происходит с помощью конструктора **from_pretrained**.\n",
    "\n",
    "В данном конструкторе можно указать либо путь к предобученному токенизатору, либо название предобученной конфигурации, как в нашем случае: тогда **transformers** сам подгрузит нужные параметры:"
   ]
  },
  {
   "cell_type": "code",
   "execution_count": null,
   "metadata": {
    "id": "3tg_bCeaQEMA"
   },
   "outputs": [],
   "source": [
    "tokenizer = AutoTokenizer.from_pretrained(model_name)"
   ]
  },
  {
   "cell_type": "markdown",
   "metadata": {
    "id": "4MIrbmNoQEMA"
   },
   "source": [
    "### Подготовка словарей\n",
    "\n",
    "В сравнении с рекуррентными моделями, нам больше не нужно заниматься сборкой словаря, так как это уже сделано заранее благодаря токенизаторам и алгоритмам, стоящими за ними.\n",
    "\n",
    "Но нам как и прежде потребуется:\n",
    "- {**label**}→{**label_idx**}: соответствие между тегом и уникальным индексом (начинается с 0);\n",
    "\n",
    "Но данное отображение у нас уже реализовано в одной из предыдущих частей задания."
   ]
  },
  {
   "cell_type": "markdown",
   "metadata": {
    "id": "CvYF-4uaQEMB"
   },
   "source": [
    "### Подготовка датасета и загрузчика\n",
    "\n",
    "Мы также хотим обучать модель батчами, поэтому нам как и прежде понадобятся `Dataset`, `Collator` и `DataLoader`.\n",
    "\n",
    "Но мы не можем переиспользовать те, что в предыдущих частях задания, так как обработка данных должна производится немного иначе с использованием токенизатора.\n",
    "\n",
    "Давайте напишем новый кастомный датасет, который на вход (метод `__init__`) будет принимать:\n",
    "- token_seq - список списков слов / токенов\n",
    "- label_seq - список списков тегов\n",
    "\n",
    "и возвращать из метода `__getitem__` два списка:\n",
    "- список текстовых значений (`List[str]`) из индексов токенов в сэмпле\n",
    "- список целочисленных значений (`List[int]`) из индексов соответвующих тегов\n",
    "\n",
    "P.S. В отличие от предыдущего кастомного датасет, здесь мы возвращаем два `List`'а вместо `torch.LongTensor`, так как логику формирования западдированного батча мы перенесем в `Collator` из-за специфики работы токенизатора - он сам возвращает уже западдированный тензор с индексами токенов, а для индексов тегов нам нужно будет сделать это самостоятельно по аналогии с предыдущим датасетом.\n",
    "\n",
    "**Задание. Реализуйте класс датасета TransformersDataset.** **<font color='red'>(1 балл)</font>**"
   ]
  },
  {
   "cell_type": "code",
   "execution_count": null,
   "metadata": {
    "id": "7EoNLDOOQEMB"
   },
   "outputs": [],
   "source": [
    "class TransformersDataset(torch.utils.data.Dataset):\n",
    "    \"\"\"\n",
    "    Transformers Dataset for NER.\n",
    "    \"\"\"\n",
    "\n",
    "    def __init__(\n",
    "        self,\n",
    "        token_seq: List[List[str]],\n",
    "        label_seq: List[List[str]],\n",
    "    ):\n",
    "        \"\"\"\n",
    "        Class constructor.\n",
    "\n",
    "        Args:\n",
    "            token_seq: the list of lists contains token sequences.\n",
    "            label_seq: the list of lists consists of label sequences.\n",
    "\n",
    "        Returns:\n",
    "            None\n",
    "        \"\"\"\n",
    "        self.token_seq = token_seq\n",
    "        self.label_seq = [self.process_labels(labels, label2idx) for labels in label_seq]\n",
    "\n",
    "    def __len__(self):\n",
    "        \"\"\"\n",
    "        Returns length of the dataset.\n",
    "\n",
    "        Args:\n",
    "            None\n",
    "\n",
    "        Returns:\n",
    "            length of the dataset\n",
    "        \"\"\"\n",
    "        return len(self.token_seq)\n",
    "\n",
    "    def __getitem__(\n",
    "        self,\n",
    "        idx: int,\n",
    "    ) -> Tuple[List[str], List[int]]:\n",
    "        \"\"\"\n",
    "        Gets one item for tthe dataset\n",
    "\n",
    "        Args:\n",
    "            idx: the index of the particular element in the dataset\n",
    "\n",
    "        Returns:\n",
    "            (tokens, labels), where `tokens` is sequence of token in the dataset\n",
    "                by index `idx` and `labels` is corresponding labels list\n",
    "        \"\"\"\n",
    "        tokens = None\n",
    "        labels = None\n",
    "\n",
    "        # ### START CODE HERE ###\n",
    "        ...\n",
    "        # ### END CODE HERE ###\n",
    "\n",
    "        return tokens, labels\n",
    "\n",
    "    @staticmethod\n",
    "    def process_labels(\n",
    "        labels: List[str],\n",
    "        label2idx: Dict[str, int],\n",
    "    ) -> List[int]:\n",
    "        \"\"\"\n",
    "        Transform list of labels into list of labels' indices.\n",
    "\n",
    "        Args:\n",
    "            labels: the list of strings contains the labels\n",
    "            label2idx: mapping from a label to an index\n",
    "\n",
    "        Returns:\n",
    "            ids: the sequence of indices that correspond to labels\n",
    "        \"\"\"\n",
    "\n",
    "        ids = None\n",
    "\n",
    "        # ### START CODE HERE ###\n",
    "        ...\n",
    "        # ### END CODE HERE ###\n",
    "\n",
    "        return ids"
   ]
  },
  {
   "cell_type": "markdown",
   "metadata": {
    "id": "p1oNc-31QEMB"
   },
   "source": [
    "Создадим три датасета:\n",
    "- *train_dataset*\n",
    "- *valid_dataset*\n",
    "- *test_dataset*"
   ]
  },
  {
   "cell_type": "code",
   "execution_count": null,
   "metadata": {
    "id": "vqg56Jf8QEMC"
   },
   "outputs": [],
   "source": [
    "train_dataset = TransformersDataset(\n",
    "    token_seq=train_token_seq,\n",
    "    label_seq=train_label_seq,\n",
    ")\n",
    "valid_dataset = TransformersDataset(\n",
    "    token_seq=valid_token_seq,\n",
    "    label_seq=valid_label_seq,\n",
    ")\n",
    "test_dataset = TransformersDataset(\n",
    "    token_seq=test_token_seq,\n",
    "    label_seq=test_label_seq,\n",
    ")"
   ]
  },
  {
   "cell_type": "markdown",
   "metadata": {
    "id": "WdIS6XrvQEMC"
   },
   "source": [
    "Посмотрим на то, что мы получили:"
   ]
  },
  {
   "cell_type": "code",
   "execution_count": null,
   "metadata": {
    "id": "IT00Pjy6QEMC"
   },
   "outputs": [],
   "source": [
    "train_dataset[0]"
   ]
  },
  {
   "cell_type": "code",
   "execution_count": null,
   "metadata": {
    "id": "uYal2icQmuD-"
   },
   "outputs": [],
   "source": [
    "valid_dataset[0]"
   ]
  },
  {
   "cell_type": "code",
   "execution_count": null,
   "metadata": {
    "id": "FCXd3FWVmuKe"
   },
   "outputs": [],
   "source": [
    "test_dataset[0]"
   ]
  },
  {
   "cell_type": "code",
   "execution_count": null,
   "metadata": {
    "id": "B4R605vAnYT9"
   },
   "outputs": [],
   "source": [
    "assert len(train_dataset) == 14986, \"Неправильная длина train_dataset\"\n",
    "assert len(valid_dataset) == 3465, \"Неправильная длина valid_dataset\"\n",
    "assert len(test_dataset) == 3683, \"Неправильная длина test_dataset\"\n",
    "\n",
    "assert train_dataset[0][0] == ['eu', 'rejects', 'german', 'call', 'to', 'boycott', 'british', 'lamb', '.'], \"Неправильно сформированный train_dataset\"\n",
    "assert train_dataset[0][1] == [3,0,2,0,0,0,2,0,0], \"Неправильно сформированный train_dataset\"\n",
    "\n",
    "assert valid_dataset[0][0] == ['cricket', '-', 'leicestershire', 'take', 'over', 'at', 'top', 'after', 'innings', 'victory', '.'], \"Неправильно сформированный valid_dataset\"\n",
    "assert valid_dataset[0][1] == [0,0,3,0,0,0,0,0,0,0,0], \"Неправильно сформированный valid_dataset\"\n",
    "\n",
    "assert test_dataset[0][0] == ['soccer', '-', 'japan', 'get', 'lucky', 'win', ',', 'china', 'in', 'surprise', 'defeat', '.'], \"Неправильно сформированный test_dataset\"\n",
    "assert test_dataset[0][1] == [0,0,1,0,0,0,0,4,0,0,0,0], \"Неправильно сформированный test_dataset\"\n",
    "\n",
    "print(\"Тесты пройдены!\")"
   ]
  },
  {
   "cell_type": "markdown",
   "metadata": {
    "id": "0zP_6iQnQEMC"
   },
   "source": [
    "Реализуем новый `Collator`.\n",
    "\n",
    "Инициализировать коллатор будет 3 аргументами:\n",
    "- токенизатор\n",
    "- параметры токенизатора в виде словаря (затем используем как `**kwargs`)\n",
    "- id спецтокена для последовательностей тегов (значение -1)\n",
    "\n",
    "Метод `__call__` на вход принимает батч, а именно список кортежей того, что нам возвращается из датасета. В нашем случае это список кортежей двух int64 тензоров - `List[Tuple[torch.LongTensor, torch.LongTensor]]`.\n",
    "\n",
    "На выходе мы хотим получить два тензора:\n",
    "- западденные индексы слов / токенов\n",
    "- западденные индексы тегов\n",
    "\n",
    "**Задание. Реализуйте класс коллатора TransformersCollator.** **<font color='red'>(2 балла)</font>**"
   ]
  },
  {
   "cell_type": "code",
   "execution_count": null,
   "metadata": {
    "id": "BonAp65jQEMD"
   },
   "outputs": [],
   "source": [
    "from transformers import PreTrainedTokenizer\n",
    "from transformers.tokenization_utils_base import BatchEncoding\n",
    "\n",
    "\n",
    "class TransformersCollator:\n",
    "    \"\"\"\n",
    "    Transformers Collator that handles variable-size sentences.\n",
    "    \"\"\"\n",
    "\n",
    "    def __init__(\n",
    "        self,\n",
    "        tokenizer: PreTrainedTokenizer,\n",
    "        tokenizer_kwargs: Dict[str, Any],\n",
    "        label_padding_value: int,\n",
    "    ):\n",
    "        \"\"\"\n",
    "        TransformersCollator class constructor.\n",
    "\n",
    "        Args:\n",
    "            tokenizer: the pretrained tokenizer which converts sentence\n",
    "                to tokens.\n",
    "            tokenizer_kwargs: the arguments of the tokenizer\n",
    "            label_padding_value: the padding value for a label\n",
    "\n",
    "        Returns:\n",
    "            None\n",
    "        \"\"\"\n",
    "        self.tokenizer = tokenizer\n",
    "        self.tokenizer_kwargs = tokenizer_kwargs\n",
    "\n",
    "        self.label_padding_value = label_padding_value\n",
    "\n",
    "    def __call__(\n",
    "        self,\n",
    "        batch: List[Tuple[List[str], List[int]]],\n",
    "    ) -> Tuple[torch.LongTensor, torch.LongTensor]:\n",
    "        \"\"\"\n",
    "        Calls transformers' collator.\n",
    "\n",
    "        Args:\n",
    "            batch: One batch with sentence and labels.\n",
    "\n",
    "        Returns:\n",
    "            (tokens, labels), where `tokens` is sequence of token\n",
    "                and `labels` is corresponding labels list\n",
    "        \"\"\"\n",
    "        tokens, labels = zip(*batch)\n",
    "\n",
    "        # ### START CODE HERE ###\n",
    "        ...\n",
    "        # ### END CODE HERE ###\n",
    "\n",
    "        tokens.pop(\"offset_mapping\")\n",
    "\n",
    "        return tokens, labels\n",
    "\n",
    "    @staticmethod\n",
    "    def encode_labels(\n",
    "        tokens: BatchEncoding,\n",
    "        labels: List[List[int]],\n",
    "        label_padding_value: int,\n",
    "    ) -> torch.LongTensor:\n",
    "\n",
    "        encoded_labels = []\n",
    "\n",
    "        for doc_labels, doc_offset in zip(labels, tokens.offset_mapping):\n",
    "\n",
    "            doc_enc_labels = np.ones(len(doc_offset), dtype=int) * label_padding_value\n",
    "            arr_offset = np.array(doc_offset)\n",
    "\n",
    "            doc_enc_labels[(arr_offset[:,0] == 0) & (arr_offset[:,1] != 0)] = doc_labels\n",
    "            encoded_labels.append(doc_enc_labels.tolist())\n",
    "\n",
    "        return torch.LongTensor(encoded_labels)"
   ]
  },
  {
   "cell_type": "code",
   "execution_count": null,
   "metadata": {
    "id": "iC8JkUPnQEMD"
   },
   "outputs": [],
   "source": [
    "tokenizer_kwargs = {\n",
    "    \"is_split_into_words\":    True,\n",
    "    \"return_offsets_mapping\": True,\n",
    "    \"padding\":                True,\n",
    "    \"truncation\":             True,\n",
    "    \"max_length\":             512,\n",
    "    \"return_tensors\":         \"pt\",\n",
    "}"
   ]
  },
  {
   "cell_type": "code",
   "execution_count": null,
   "metadata": {
    "id": "5sCDaxR6QEMD"
   },
   "outputs": [],
   "source": [
    "collator = TransformersCollator(\n",
    "    tokenizer=tokenizer,\n",
    "    tokenizer_kwargs=tokenizer_kwargs,\n",
    "    label_padding_value=-1,\n",
    ")"
   ]
  },
  {
   "cell_type": "markdown",
   "metadata": {
    "id": "eirev0N_QEMD"
   },
   "source": [
    "Теперь всё готово, чтобы задать `DataLoader`'ы:"
   ]
  },
  {
   "cell_type": "code",
   "execution_count": null,
   "metadata": {
    "id": "9JDrLC6pQEME"
   },
   "outputs": [],
   "source": [
    "train_dataloader = torch.utils.data.DataLoader(\n",
    "    train_dataset,\n",
    "    batch_size=2,\n",
    "    shuffle=True,\n",
    "    collate_fn=collator,\n",
    ")\n",
    "valid_dataloader = torch.utils.data.DataLoader(\n",
    "    valid_dataset,\n",
    "    batch_size=1,  # для корректных замеров метрик оставить batch_size=1\n",
    "    shuffle=False, # для корректных замеров метрик оставить shuffle=False\n",
    "    collate_fn=collator,\n",
    ")\n",
    "test_dataloader = torch.utils.data.DataLoader(\n",
    "    test_dataset,\n",
    "    batch_size=1,  # для корректных замеров метрик оставить batch_size=1\n",
    "    shuffle=False, # для корректных замеров метрик оставить shuffle=False\n",
    "    collate_fn=collator,\n",
    ")"
   ]
  },
  {
   "cell_type": "markdown",
   "metadata": {
    "id": "v3zGjEDHQEME"
   },
   "source": [
    "Посмотрим на то, что мы получили:"
   ]
  },
  {
   "cell_type": "code",
   "execution_count": null,
   "metadata": {
    "id": "KSWcYEAWQEME"
   },
   "outputs": [],
   "source": [
    "tokens, labels = next(iter(train_dataloader))\n",
    "\n",
    "tokens = tokens.to(device)\n",
    "labels = labels.to(device)"
   ]
  },
  {
   "cell_type": "code",
   "execution_count": null,
   "metadata": {
    "id": "NTcdU1BlQEME"
   },
   "outputs": [],
   "source": [
    "tokens"
   ]
  },
  {
   "cell_type": "code",
   "execution_count": null,
   "metadata": {
    "id": "p7ZTh97-QEME"
   },
   "outputs": [],
   "source": [
    "labels"
   ]
  },
  {
   "cell_type": "code",
   "execution_count": null,
   "metadata": {
    "id": "pMprtk9bodM9"
   },
   "outputs": [],
   "source": [
    "train_tokens, train_labels = next(iter(\n",
    "    torch.utils.data.DataLoader(\n",
    "        train_dataset,\n",
    "        batch_size=2,\n",
    "        shuffle=False,\n",
    "        collate_fn=collator,\n",
    "    )\n",
    "))\n",
    "assert torch.equal(train_tokens['input_ids'], torch.tensor([[  101,   174,  1358, 22961,   176, 14170,  1840,  1106, 21423,  9304, 10721,  1324,  2495, 12913,   119,   102], [  101, 11109,  1200,  1602,  6715,   102,     0,     0,     0,     0,    0,     0,     0,     0,     0,     0]])), \"Похоже на ошибку в коллаторе\"\n",
    "assert torch.equal(train_tokens['attention_mask'], torch.tensor([[1, 1, 1, 1, 1, 1, 1, 1, 1, 1, 1, 1, 1, 1, 1, 1], [1, 1, 1, 1, 1, 1, 0, 0, 0, 0, 0, 0, 0, 0, 0, 0]])), \"Похоже на ошибку в коллаторе\"\n",
    "assert torch.equal(train_labels, torch.tensor([[-1,  3, -1,  0,  2, -1,  0,  0,  0,  2, -1, -1,  0, -1,  0, -1], [-1,  4, -1,  8, -1, -1, -1, -1, -1, -1, -1, -1, -1, -1, -1, -1]])), \"Похоже на ошибку в коллаторе\"\n",
    "\n",
    "valid_tokens, valid_labels = next(iter(\n",
    "    torch.utils.data.DataLoader(\n",
    "        valid_dataset,\n",
    "        batch_size=2,\n",
    "        shuffle=False,\n",
    "        collate_fn=collator,\n",
    "    )\n",
    "))\n",
    "assert torch.equal(valid_tokens['input_ids'], torch.tensor([[  101,  5428,   118,  5837, 18117,  5759, 15189,  1321,  1166,  1120,  1499,  1170,  6687,  2681,   119,   102], [  101, 25338, 17996,  1820,   118,  4775,   118,  1476,   102,     0,     0,     0,     0,     0,     0,     0]])), \"Похоже на ошибку в коллаторе\"\n",
    "assert torch.equal(valid_tokens['attention_mask'], torch.tensor([[1, 1, 1, 1, 1, 1, 1, 1, 1, 1, 1, 1, 1, 1, 1, 1], [1, 1, 1, 1, 1, 1, 1, 1, 1, 0, 0, 0, 0, 0, 0, 0]])), \"Похоже на ошибку в коллаторе\"\n",
    "assert torch.equal(valid_labels, torch.tensor([[-1,  0,  0,  3, -1, -1, -1,  0,  0,  0,  0,  0,  0,  0,  0, -1], [-1,  1, -1,  0, -1, -1, -1, -1, -1, -1, -1, -1, -1, -1, -1, -1]])), \"Похоже на ошибку в коллаторе\"\n",
    "\n",
    "test_tokens, test_labels = next(iter(\n",
    "    torch.utils.data.DataLoader(\n",
    "        test_dataset,\n",
    "        batch_size=2,\n",
    "        shuffle=False,\n",
    "        collate_fn=collator,\n",
    "    )\n",
    "))\n",
    "assert torch.equal(test_tokens['input_ids'], torch.tensor([[  101,  5862,   118,   179, 26519,  1179,  1243,  6918,  1782,   117,  5144,  1161,  1107,  3774,  3326,   119,   102], [  101,  9468,  3309,  1306, 19122,  2293,   102,     0,     0,     0,     0,     0,     0,     0,     0,     0,     0]])), \"Похоже на ошибку в коллаторе\"\n",
    "assert torch.equal(test_tokens['attention_mask'], torch.tensor([[1, 1, 1, 1, 1, 1, 1, 1, 1, 1, 1, 1, 1, 1, 1, 1, 1], [1, 1, 1, 1, 1, 1, 1, 0, 0, 0, 0, 0, 0, 0, 0, 0, 0]])), \"Похоже на ошибку в коллаторе\"\n",
    "assert torch.equal(test_labels, torch.tensor([[-1,  0,  0,  1, -1, -1,  0,  0,  0,  0,  4, -1,  0,  0,  0,  0, -1], [-1,  4, -1, -1,  8, -1, -1, -1, -1, -1, -1, -1, -1, -1, -1, -1, -1]])), \"Похоже на ошибку в коллаторе\"\n",
    "\n",
    "print(\"Тесты пройдены!\")"
   ]
  },
  {
   "cell_type": "markdown",
   "metadata": {
    "id": "_m-taH0SQEMF"
   },
   "source": [
    "В библиотеке **transformers** есть классы для модели BERT, уже настроенные под решение конкретных задач, с соответствующими головами классификации. Для задачи NER будем использовать класс `BertForTokenClassification`.\n",
    "\n",
    "По аналогии с токенизаторами, мы можем использовать класс `AutoModelForTokenClassification`, который по названию модели сам определит, какой класс нужен для инициализации модели."
   ]
  },
  {
   "cell_type": "code",
   "execution_count": null,
   "metadata": {
    "id": "x6tq_i7JQEMF"
   },
   "outputs": [],
   "source": [
    "from transformers import AutoModelForTokenClassification"
   ]
  },
  {
   "cell_type": "code",
   "execution_count": null,
   "metadata": {
    "id": "Vma9yj0zQEMF"
   },
   "outputs": [],
   "source": [
    "model = AutoModelForTokenClassification.from_pretrained(\n",
    "    model_name,\n",
    "    num_labels=len(label2idx),\n",
    ").to(device)"
   ]
  },
  {
   "cell_type": "code",
   "execution_count": null,
   "metadata": {
    "id": "Imv-6gAQQEMG"
   },
   "outputs": [],
   "source": [
    "optimizer = torch.optim.Adam(model.parameters(), lr=1e-5)"
   ]
  },
  {
   "cell_type": "code",
   "execution_count": null,
   "metadata": {
    "id": "LAdHfn4oQEMG"
   },
   "outputs": [],
   "source": [
    "outputs = model(**tokens)"
   ]
  },
  {
   "cell_type": "code",
   "execution_count": null,
   "metadata": {
    "id": "P-kTke_8QEMG"
   },
   "outputs": [],
   "source": [
    "assert 2 < criterion(outputs[\"logits\"].transpose(1, 2), labels) < 3\n",
    "\n",
    "print(\"Тесты пройдены!\")"
   ]
  },
  {
   "cell_type": "code",
   "execution_count": null,
   "metadata": {
    "id": "5Ana4qGKeHrN"
   },
   "outputs": [],
   "source": [
    "# создадим SummaryWriter для эксперимента с BiLSTMModel\n",
    "\n",
    "from torch.utils.tensorboard import SummaryWriter\n",
    "\n",
    "writer = SummaryWriter(log_dir=f\"logs/Transformer\")"
   ]
  },
  {
   "cell_type": "markdown",
   "metadata": {
    "id": "8sNuFPRdQEMH"
   },
   "source": [
    "### Эксперименты\n",
    "\n",
    "Проведите эксперименты на данных. Настраивайте параметры по валидационной выборке, не используя тестовую. Ваше цель — настроить сеть так, чтобы качество модели по F1-macro мере на валидационной и тестовой выборках было не меньше **0.9**.\n",
    "\n",
    "Сделайте выводы о качестве модели, переобучении, чувствительности архитектуры к выбору гиперпараметров. Оформите результаты экспериментов в виде мини-отчета (в этом же ipython notebook)."
   ]
  },
  {
   "cell_type": "markdown",
   "metadata": {
    "id": "7IfkN20lrN0J"
   },
   "source": [
    "Вы можете использовать ту же самую функцию train, что и до этого за тем исключением, что вместо инференса `model(tokens)` нужно делать `model(**tokens)`, а вместо `outputs` использовать `outputs[\"logits\"].transpose(1, 2)`"
   ]
  },
  {
   "cell_type": "markdown",
   "metadata": {
    "id": "8iyZUFddzYE5"
   },
   "source": [
    "**Задание. Проведите эксперименты.** **<font color='red'>(2 балла)</font>**\n"
   ]
  },
  {
   "cell_type": "code",
   "execution_count": null,
   "metadata": {
    "id": "jFW92sNL4YCA"
   },
   "outputs": [],
   "source": [
    "# ### START CODE HERE ###\n",
    "# Реализуйте ветку elif в функции train, которая\n",
    "# отвечает условию model_type == 'Transformer'\n",
    "train(...)\n",
    "# ### END CODE HERE ###"
   ]
  },
  {
   "cell_type": "code",
   "execution_count": null,
   "metadata": {
    "id": "ad4qt1dy6NuD"
   },
   "outputs": [],
   "source": [
    "evaluate_epoch(\n",
    "    model=model,\n",
    "    dataloader=test_dataloader,\n",
    "    criterion=criterion,\n",
    "    writer=writer,\n",
    "    device=device,\n",
    "    epoch=1,\n",
    "    model_type='Transformer',\n",
    ")"
   ]
  },
  {
   "cell_type": "markdown",
   "metadata": {
    "id": "5XlI3cb1QEL2"
   },
   "source": [
    "## Часть 4. Бонусы.\n",
    "\n",
    "## Бонус 1: BiLSTMAttention-теггер (2 баллa)\n",
    "\n",
    "Необходимо провести те же самые эксперименты как и в части 2, но уже с использованием усовершенствованной архитектуры теггера BiLSTM с Attention механизмом.\n",
    "\n",
    "**Обратите внимание**, что реализовывать Attention самому не нужно, можно использовать `torch.nn.MultiheadAttention`.\n",
    "\n",
    "Также сделайте выводы о качестве модели, переобучении, чувствительности архитектуры к выбору гиперпараметров и проведите небольшой сравнительный анализ с предыдущей архитектурой. Оформите результаты экспериментов в виде мини-отчета (в этом же ipython notebook).\n",
    "\n",
    "**Задание. Реализуйте класс модели BiLSTMAttn.** **<font color='red'>(1 балл)</font>**"
   ]
  },
  {
   "cell_type": "code",
   "execution_count": null,
   "metadata": {
    "id": "_MyLQp047yID"
   },
   "outputs": [],
   "source": [
    "from torch.nn import Embedding, LSTM, Linear, MultiheadAttention\n",
    "\n",
    "\n",
    "class BiLSTMAttn(torch.nn.Module):\n",
    "    \"\"\"\n",
    "    Bidirectional LSTM architecture.\n",
    "    \"\"\"\n",
    "\n",
    "    def __init__(\n",
    "        self,\n",
    "        num_embeddings: int,\n",
    "        embedding_dim: int,\n",
    "        hidden_size: int,\n",
    "        num_layers: int,\n",
    "        dropout: float,\n",
    "        bidirectional: bool,\n",
    "        n_classes: int,\n",
    "        token_padding_value: int,\n",
    "        max_norm: float,\n",
    "        num_heads: int,\n",
    "    ) -> None:\n",
    "\n",
    "        super().__init__()\n",
    "\n",
    "        self.token_padding_value = token_padding_value\n",
    "        self.embedding = None # Embedding layer\n",
    "        self.rnn = None # LSTM layer\n",
    "        self.q_linear = None # rnn output to q (queries)\n",
    "        self.k_linear = None # rnn output to k (keys)\n",
    "        self.v_linear = None # rnn output to v 9values)\n",
    "        self.multihead_attn = None # MultiHead Attention\n",
    "        self.head = None # Linear layer\n",
    "\n",
    "        # ### START CODE HERE ###\n",
    "        ...\n",
    "        # ### END CODE HERE ###\n",
    "\n",
    "    def forward(self, tokens: torch.LongTensor) -> torch.Tensor:\n",
    "        \"\"\"\n",
    "        Applying neural network layers to input 'tokens'.\n",
    "\n",
    "        Args:\n",
    "            tokens: the input tensor with tokens ids (batch_size, sequence_len)\n",
    "\n",
    "        Returns:\n",
    "            logits: the scores issued by the model (batch_size, num_classes, sequence_len)\n",
    "        \"\"\"\n",
    "        embed = self.embedding(tokens)\n",
    "\n",
    "        # Используем специальную функцию pack_padded_sequence для того, чтобы получить\n",
    "        # структуру PackedSequence, которая не учитывать паддинг при проходе rnn.\n",
    "        # lengths -- длины исходных исходных последовательностей в батче,\n",
    "        # без учёта сдвига\n",
    "        lengths = (tokens != self.token_padding_value).sum(dim=1).detach().cpu()\n",
    "        packed_embed = torch.nn.utils.rnn.pack_padded_sequence(\n",
    "            input=embed,\n",
    "            lengths=lengths,\n",
    "            batch_first=True,\n",
    "            enforce_sorted=False,\n",
    "        )\n",
    "\n",
    "        # Используем специальную функцию pad_packed_sequence для того, чтобы получить\n",
    "        # тензор из PackedSequence. Операция является обратной к pack_padded_sequence\n",
    "        packed_rnn_output, _ = self.rnn(packed_embed)\n",
    "        rnn_output, _ = torch.nn.utils.rnn.pad_packed_sequence(\n",
    "            sequence=packed_rnn_output,\n",
    "            batch_first=True\n",
    "        )\n",
    "\n",
    "        # ### START CODE HERE ###\n",
    "        query = ...\n",
    "        key = ...\n",
    "        value = ...\n",
    "\n",
    "        key_padding_mask = ..\n",
    "        attn_output = ...\n",
    "        # ### END CODE HERE ###\n",
    "\n",
    "        logits = self.head(attn_output)\n",
    "        logits = logits.transpose(1, 2)\n",
    "        return logits"
   ]
  },
  {
   "cell_type": "markdown",
   "metadata": {
    "id": "ezh9kLTkQEL9"
   },
   "source": [
    "**Задание. Проведите эксперименты и побейте метрику из части 2.** **<font color='red'>(1 балл)</font>**\n",
    "\n",
    "P.S. Eсли качества увеличить не получилось, это нужно обосновать"
   ]
  },
  {
   "cell_type": "code",
   "execution_count": null,
   "metadata": {
    "id": "sE1C1tzEQEL-"
   },
   "outputs": [],
   "source": [
    "train_dataset = NERDataset(\n",
    "    token_seq=train_token_seq,\n",
    "    label_seq=train_label_seq,\n",
    "    token2idx=token2idx,\n",
    "    label2idx=label2idx,\n",
    ")\n",
    "valid_dataset = NERDataset(\n",
    "    token_seq=valid_token_seq,\n",
    "    label_seq=valid_label_seq,\n",
    "    token2idx=token2idx,\n",
    "    label2idx=label2idx,\n",
    ")\n",
    "test_dataset = NERDataset(\n",
    "    token_seq=test_token_seq,\n",
    "    label_seq=test_label_seq,\n",
    "    token2idx=token2idx,\n",
    "    label2idx=label2idx,\n",
    ")\n",
    "\n",
    "collator = NERCollator(\n",
    "    token_padding_value=token2idx[\"<PAD>\"],\n",
    "    label_padding_value=-1,\n",
    ")\n",
    "\n",
    "valid_dataloader = torch.utils.data.DataLoader(\n",
    "    valid_dataset,\n",
    "    batch_size=1,  # для корректных замеров метрик оставить batch_size=1\n",
    "    shuffle=False, # для корректных замеров метрик оставить shuffle=False\n",
    "    collate_fn=collator,\n",
    ")\n",
    "test_dataloader = torch.utils.data.DataLoader(\n",
    "    test_dataset,\n",
    "    batch_size=1,  # для корректных замеров метрик оставить batch_size=1\n",
    "    shuffle=False, # для корректных замеров метрик оставить shuffle=False\n",
    "    collate_fn=collator,\n",
    ")\n",
    "\n",
    "# ### START CODE HERE ###\n",
    "train_dataloader = ...\n",
    "\n",
    "model = ...\n",
    "\n",
    "optimizer = ...\n",
    "\n",
    "train(...)\n",
    "# ### END CODE HERE ###"
   ]
  },
  {
   "cell_type": "code",
   "execution_count": null,
   "metadata": {
    "id": "MvESUF7FVAjD"
   },
   "outputs": [],
   "source": [
    "evaluate_epoch(\n",
    "    model=model,\n",
    "    dataloader=test_dataloader,\n",
    "    criterion=criterion,\n",
    "    writer=writer,\n",
    "    device=device,\n",
    "    epoch=1,\n",
    "    model_type='BiLSTM'\n",
    ")"
   ]
  },
  {
   "cell_type": "markdown",
   "metadata": {
    "id": "NpMp9p8xcoeG"
   },
   "source": [
    "## Бонус 2: ChatGPT-теггер (2 балла)"
   ]
  },
  {
   "cell_type": "markdown",
   "metadata": {
    "id": "ffRpFB-ZbRsr"
   },
   "source": [
    "Творческое задание, в котором Вам требуется использовать ChatGPT от OpenAI для разметки именованных сущностей. В этой части Вы вольны использовать любые приемы и ухищрения, чтобы заставить модель классифицировать токены.\n",
    "\n",
    "Ваше задание заключается в следующем:\n",
    "- с помощью ChatGPT разметить первые 30 объектов из test_token_seq;\n",
    "- на размеченных объектах посчитать качество с помощью ранее описанной функции `compute_metrics`;\n",
    "- написать выводы.\n",
    "\n",
    "Один из возможных вариантов, но не единственный  -- использование техники Few-Shot Learning. Суть заключается в том, что модели нужно скормить на вход \"правила игры\", то есть то, что мы будем подавать на вход и что мы ожидаем на выходе. Например:\n",
    "\n",
    "\"eu rejects german call to boycott british lamb . -> B-ORG O B-MISC O O O B-MISC O O\"\n",
    "\n",
    "\"peter blackburn -> B-PER I-PER\"\n",
    "\n",
    "\"the european commission said on thursday it disagreed with german advice to consumers to shun british lamb until scientists determine whether mad cow disease can be transmitted to sheep . -> O B-ORG I-ORG O O O O O O B-MISC O O O O O B-MISC O O O O O O O O O O O O O O\"\n",
    "\n",
    "\"my name is lomonosov ->\" (и тут просим модель выдать ответ).\n",
    "\n",
    "Так делаем для первых 30 последовательностей из тестовой части и считаем метрики качества (размера батча при этом также равен одному).\n",
    "\n",
    "Здесь есть несколько нюансов, которые мы раскрывать не будем. Вам предстоит столкнуться с ними в процессе. Также мы намеренно не предоставляем дополнительных подсказок, предлагая полную свободу действий. Любые нестандартные техники и идеи приветствуются и будут поощераться баллами.\n",
    "\n",
    "**Важные детали**:\n",
    "- Вам нужно зарегистрировать аккаунт в системе OpenAI, лучше всего делать это через Gmail (домен @mail.ru, например, банится и не регистрируется).\n",
    "- Также Вам понадобиться VPN, без него по некоторым причинам не получится зайти на сайт, зарегистрироваться и воспользоваться моделью.\n",
    "- У Вас есть лимит на количество токенов, которые Вы можете обработать, поэтому расходуйте ресурс разумно. Но Вы можете регистрировать несколько аккаутов, пополнять баланс, использовать более \"дорогие\" модели -- здесь на Ваш выбор.\n",
    "- Основной целью этой части задания является показать, что LLM также можно использовать разметке именнованных сущностей. Так как техник очень много, мы предлагаем ориентироваться на порог качества **0.70** и выше по `f1-macro`. Этот порог можно достичь на стандартной версии `gpt-3.5-turbo`, без дополнительных денежных трат, ограничиваясь бесплатным лимитом.\n",
    "- Напишите содержательный вывод и Ваше мнение о целесобразности такого подхода, в чем его преимущества и недостатки, в каких ситуациях он имеет место быть, а где лучше использовать стандартные LSTM/Transformer-модели."
   ]
  },
  {
   "cell_type": "code",
   "execution_count": null,
   "metadata": {
    "id": "QqcQWCuz2ZnH"
   },
   "outputs": [],
   "source": [
    "!pip install openai==0.28.1"
   ]
  },
  {
   "cell_type": "code",
   "execution_count": null,
   "metadata": {
    "id": "opn_4LeNTryx"
   },
   "outputs": [],
   "source": [
    "import openai\n",
    "openai.api_key = \"YOUR_TOKEN\""
   ]
  },
  {
   "cell_type": "code",
   "execution_count": null,
   "metadata": {
    "id": "3xuGUfPtPpKs"
   },
   "outputs": [],
   "source": [
    "# ### START CODE HERE ###\n",
    "...\n",
    "# ### END CODE HERE ###"
   ]
  }
 ],
 "metadata": {
  "accelerator": "GPU",
  "colab": {
   "collapsed_sections": [
    "4MIrbmNoQEMA"
   ],
   "provenance": []
  },
  "kernelspec": {
   "display_name": "Python 3 (ipykernel)",
   "language": "python",
   "name": "python3"
  },
  "language_info": {
   "codemirror_mode": {
    "name": "ipython",
    "version": 3
   },
   "file_extension": ".py",
   "mimetype": "text/x-python",
   "name": "python",
   "nbconvert_exporter": "python",
   "pygments_lexer": "ipython3",
   "version": "3.12.3"
  },
  "vscode": {
   "interpreter": {
    "hash": "8d4ce941904148077feb793883e611d25d231ca995d9164b22ee99fd0facd8d1"
   }
  }
 },
 "nbformat": 4,
 "nbformat_minor": 4
}
